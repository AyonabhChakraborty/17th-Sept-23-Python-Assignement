{
 "cells": [
  {
   "cell_type": "code",
   "execution_count": 2,
   "id": "402ebf9b-b3c3-44dd-90cd-1c08ced4cad3",
   "metadata": {},
   "outputs": [
    {
     "name": "stdout",
     "output_type": "stream",
     "text": [
      "1\n",
      "2\n",
      "3\n",
      "4\n",
      "5\n",
      "6\n",
      "7\n",
      "8\n",
      "9\n",
      "10\n"
     ]
    }
   ],
   "source": [
    "for i in range(1,11,1):\n",
    "    print(i)"
   ]
  },
  {
   "cell_type": "markdown",
   "id": "ff0f8f22-3ef6-4cb6-9b99-2bd760902453",
   "metadata": {},
   "source": [
    "For Loop : It is used for iterating over a sequence of elements per element or as desired by the user. Typically requires a limit.\n",
    "\n",
    "Syntax : for _ in range(upper limit,lower limit,iteration value)\n",
    "\n",
    "\n",
    "While Loop : It is used to continuosly execute a block until the condition that was used to create the loop isn't or is True\n",
    "\n",
    "Syntax : while condition:\n",
    "             \n",
    "             \n",
    "                Condition Broken/Fulfilled\n",
    "    "
   ]
  },
  {
   "cell_type": "code",
   "execution_count": 1,
   "id": "a5888289-d9e1-4090-a0a7-89541af32356",
   "metadata": {},
   "outputs": [
    {
     "name": "stdout",
     "output_type": "stream",
     "text": [
      "5050\n"
     ]
    }
   ],
   "source": [
    "s = 0\n",
    "\n",
    "for i in range(1,101,1):\n",
    "    s = s+i\n",
    "    \n",
    "print(s)"
   ]
  },
  {
   "cell_type": "markdown",
   "id": "7ad5db0f-9fc4-4ade-826c-c7a5be6d6dc8",
   "metadata": {},
   "source": [
    "We iterate through a list in python through the followinh steps:-\n",
    "\n",
    "#List Declaration\n",
    "\n",
    "l = [...]\n",
    "\n",
    "for _ in l:\n",
    "    "
   ]
  },
  {
   "cell_type": "code",
   "execution_count": 2,
   "id": "858a063f-6929-4c7a-8f92-3c1e3ae71381",
   "metadata": {},
   "outputs": [
    {
     "name": "stdin",
     "output_type": "stream",
     "text": [
      "Enter the total number of elements in the list :  20\n",
      "Enter the elements of the string :  23\n",
      "Enter the elements of the string :  34\n",
      "Enter the elements of the string :  56\n",
      "Enter the elements of the string :  22\n",
      "Enter the elements of the string :  64\n",
      "Enter the elements of the string :  74\n",
      "Enter the elements of the string :  49\n",
      "Enter the elements of the string :  45\n",
      "Enter the elements of the string :  33\n",
      "Enter the elements of the string :  432\n",
      "Enter the elements of the string :  3653\n",
      "Enter the elements of the string :  36464\n",
      "Enter the elements of the string :  282\n",
      "Enter the elements of the string :  23435\n",
      "Enter the elements of the string :  534\n",
      "Enter the elements of the string :  3545\n",
      "Enter the elements of the string :  90\n",
      "Enter the elements of the string :  12\n",
      "Enter the elements of the string :  11\n",
      "Enter the elements of the string :  123\n"
     ]
    },
    {
     "name": "stdout",
     "output_type": "stream",
     "text": [
      "The list :  [23, 34, 56, 22, 64, 74, 49, 45, 33, 432, 3653, 36464, 282, 23435, 534, 3545, 90, 12, 11, 123]\n",
      "The product of all the elements in the list [23, 34, 56, 22, 64, 74, 49, 45, 33, 432, 3653, 36464, 282, 23435, 534, 3545, 90, 12, 11, 123] is : 349254917718506784391694100418848368885760000\n"
     ]
    }
   ],
   "source": [
    "x = []\n",
    "\n",
    "n = int(input('Enter the total number of elements in the list : '))\n",
    "\n",
    "for i in range(n):\n",
    "    s = int(input('Enter the elements of the string : '))\n",
    "    x.append(s)\n",
    "    \n",
    "print('The list : ', x)\n",
    "\n",
    "p = 1\n",
    "\n",
    "\n",
    "for i in x:\n",
    "    p = p * i\n",
    "    \n",
    "print(f'The product of all the elements in the list {x} is : {p}')"
   ]
  },
  {
   "cell_type": "code",
   "execution_count": 3,
   "id": "fd212612-fa6c-4650-a0a8-a6c0b4e7b600",
   "metadata": {},
   "outputs": [
    {
     "name": "stdout",
     "output_type": "stream",
     "text": [
      "2\n",
      "4\n",
      "6\n",
      "8\n",
      "10\n",
      "12\n",
      "14\n",
      "16\n",
      "18\n",
      "20\n"
     ]
    }
   ],
   "source": [
    "for i in range(1,21,1):\n",
    "    if i%2==0:\n",
    "        print(i)\n",
    "    else:\n",
    "        continue"
   ]
  },
  {
   "cell_type": "code",
   "execution_count": 8,
   "id": "8ecada85-adf5-4c82-886c-cb9c13f382f6",
   "metadata": {},
   "outputs": [
    {
     "name": "stdin",
     "output_type": "stream",
     "text": [
      "Enter the number to calculate its factorial :  100\n"
     ]
    },
    {
     "name": "stdout",
     "output_type": "stream",
     "text": [
      "The factorial of 100 is 93326215443944152681699238856266700490715968264381621468592963895217599993229915608941463976156518286253697920827223758251185210916864000000000000000000000000\n"
     ]
    }
   ],
   "source": [
    "n = int(input('Enter the number to calculate its factorial : '))\n",
    "\n",
    "factorial = 1\n",
    "\n",
    "if n<0:\n",
    "    print('The factorial of negative numbers cannot be calculated : ')\n",
    "    \n",
    "elif n==0:\n",
    "    print('The factorial of 0 is 1')\n",
    "else:\n",
    "    for i in range(1,n+1,1):\n",
    "        factorial = factorial * i\n",
    "        \n",
    "print(f'The factorial of {n} is {factorial}')"
   ]
  },
  {
   "cell_type": "markdown",
   "id": "a7b845d9-476c-4c6b-bb77-d5c989842858",
   "metadata": {},
   "source": [
    "It is possible to iterate over the elements or characters of a string in for loop by treating the string as a sequence of characters."
   ]
  },
  {
   "cell_type": "code",
   "execution_count": 1,
   "id": "957f1ee5-c8da-415a-9970-c6decab1ad7a",
   "metadata": {},
   "outputs": [
    {
     "name": "stdin",
     "output_type": "stream",
     "text": [
      "Enter the total number of elements of the list :  10\n",
      "Enter the elements of the string :  232\n",
      "Enter the elements of the string :  356\n",
      "Enter the elements of the string :  8912\n",
      "Enter the elements of the string :  423649\n",
      "Enter the elements of the string :  3274\n",
      "Enter the elements of the string :  27309824\n",
      "Enter the elements of the string :  438247\n",
      "Enter the elements of the string :  723477\n",
      "Enter the elements of the string :  3289423\n",
      "Enter the elements of the string :  89538956\n"
     ]
    },
    {
     "name": "stdout",
     "output_type": "stream",
     "text": [
      "The list is :  [232, 356, 8912, 423649, 3274, 27309824, 438247, 723477, 3289423, 89538956]\n",
      "The largest element in the list :  89538956\n"
     ]
    }
   ],
   "source": [
    "l = []\n",
    "\n",
    "n = int(input('Enter the total number of elements of the list : '))\n",
    "\n",
    "for i in range(n):\n",
    "    x = int(input('Enter the elements of the string : '))\n",
    "    l.append(x)\n",
    "    \n",
    "print('The list is : ', l)\n",
    "\n",
    "print('The largest element in the list : ', max(l))"
   ]
  },
  {
   "cell_type": "code",
   "execution_count": 3,
   "id": "734db655-475a-447c-b562-9b217704de52",
   "metadata": {},
   "outputs": [
    {
     "name": "stdin",
     "output_type": "stream",
     "text": [
      "Enter the upper limit of the sequence :  10\n"
     ]
    },
    {
     "name": "stdout",
     "output_type": "stream",
     "text": [
      "The fibonacci sequence is : \n",
      "0\n",
      "1\n",
      "1\n",
      "2\n",
      "3\n",
      "5\n",
      "8\n",
      "13\n",
      "21\n",
      "34\n",
      "55\n",
      "89\n"
     ]
    }
   ],
   "source": [
    "n = int(input('Enter the upper limit of the sequence : '))\n",
    "\n",
    "l = [0,1]\n",
    "for i in range(n):\n",
    "    nextfib = l[-1] + l[-2]\n",
    "    l.append(nextfib)\n",
    "    \n",
    "print('The fibonacci sequence is : ')\n",
    "for i in l:\n",
    "    \n",
    "    print(i)\n",
    "    "
   ]
  },
  {
   "cell_type": "code",
   "execution_count": 4,
   "id": "1d55e33a-0a1e-479c-bb04-78535e734092",
   "metadata": {},
   "outputs": [
    {
     "name": "stdin",
     "output_type": "stream",
     "text": [
      "Enter the string of your desire :  Hello Sir My Name is Anthony Gonsalvez\n"
     ]
    },
    {
     "name": "stdout",
     "output_type": "stream",
     "text": [
      "The number of vowels in Hello Sir My Name is Anthony Gonsalvez is : 11\n"
     ]
    }
   ],
   "source": [
    "def countvowels(n):\n",
    "    vowels = 'aeiouAEIOU'\n",
    "    c = 0\n",
    "    for x in n:\n",
    "        if x in vowels:\n",
    "            c = c + 1\n",
    "            \n",
    "    return c\n",
    "\n",
    "\n",
    "n = str(input(('Enter the string of your desire : ')))\n",
    "c = countvowels(n)\n",
    "print(f'The number of vowels in {n} is : {c}')"
   ]
  },
  {
   "cell_type": "code",
   "execution_count": 5,
   "id": "b67fed64-a23e-4e75-a3a8-f074f03003e4",
   "metadata": {},
   "outputs": [
    {
     "name": "stdin",
     "output_type": "stream",
     "text": [
      "Enter the number of your desire :  100\n"
     ]
    },
    {
     "name": "stdout",
     "output_type": "stream",
     "text": [
      "100X1=100\n",
      "100X2=200\n",
      "100X3=300\n",
      "100X4=400\n",
      "100X5=500\n",
      "100X6=600\n",
      "100X7=700\n",
      "100X8=800\n",
      "100X9=900\n",
      "100X10=1000\n",
      "100X11=1100\n",
      "100X12=1200\n",
      "100X13=1300\n",
      "100X14=1400\n",
      "100X15=1500\n",
      "100X16=1600\n",
      "100X17=1700\n",
      "100X18=1800\n",
      "100X19=1900\n",
      "100X20=2000\n",
      "100X21=2100\n",
      "100X22=2200\n",
      "100X23=2300\n",
      "100X24=2400\n",
      "100X25=2500\n",
      "100X26=2600\n",
      "100X27=2700\n",
      "100X28=2800\n",
      "100X29=2900\n",
      "100X30=3000\n",
      "100X31=3100\n",
      "100X32=3200\n",
      "100X33=3300\n",
      "100X34=3400\n",
      "100X35=3500\n",
      "100X36=3600\n",
      "100X37=3700\n",
      "100X38=3800\n",
      "100X39=3900\n",
      "100X40=4000\n",
      "100X41=4100\n",
      "100X42=4200\n",
      "100X43=4300\n",
      "100X44=4400\n",
      "100X45=4500\n",
      "100X46=4600\n",
      "100X47=4700\n",
      "100X48=4800\n",
      "100X49=4900\n",
      "100X50=5000\n",
      "100X51=5100\n",
      "100X52=5200\n",
      "100X53=5300\n",
      "100X54=5400\n",
      "100X55=5500\n",
      "100X56=5600\n",
      "100X57=5700\n",
      "100X58=5800\n",
      "100X59=5900\n",
      "100X60=6000\n",
      "100X61=6100\n",
      "100X62=6200\n",
      "100X63=6300\n",
      "100X64=6400\n",
      "100X65=6500\n",
      "100X66=6600\n",
      "100X67=6700\n",
      "100X68=6800\n",
      "100X69=6900\n",
      "100X70=7000\n",
      "100X71=7100\n",
      "100X72=7200\n",
      "100X73=7300\n",
      "100X74=7400\n",
      "100X75=7500\n",
      "100X76=7600\n",
      "100X77=7700\n",
      "100X78=7800\n",
      "100X79=7900\n",
      "100X80=8000\n",
      "100X81=8100\n",
      "100X82=8200\n",
      "100X83=8300\n",
      "100X84=8400\n",
      "100X85=8500\n",
      "100X86=8600\n",
      "100X87=8700\n",
      "100X88=8800\n",
      "100X89=8900\n",
      "100X90=9000\n",
      "100X91=9100\n",
      "100X92=9200\n",
      "100X93=9300\n",
      "100X94=9400\n",
      "100X95=9500\n",
      "100X96=9600\n",
      "100X97=9700\n",
      "100X98=9800\n",
      "100X99=9900\n",
      "100X100=10000\n"
     ]
    }
   ],
   "source": [
    "n = int(input('Enter the number of your desire : '))\n",
    "\n",
    "for i in range(1,n+1,1):\n",
    "    print(f'{n}X{i}={n*i}')"
   ]
  },
  {
   "cell_type": "code",
   "execution_count": 7,
   "id": "0761adda-154f-4289-8546-351b9035ba2b",
   "metadata": {},
   "outputs": [
    {
     "name": "stdin",
     "output_type": "stream",
     "text": [
      "Enter the elements of the list to be separated using \",\" :   1,2,3,4,5,6,7,8,9,0\n"
     ]
    },
    {
     "name": "stdout",
     "output_type": "stream",
     "text": [
      "The reversed list is :  [0, 9, 8, 7, 6, 5, 4, 3, 2, 1]\n"
     ]
    }
   ],
   "source": [
    "def reverseof(l):\n",
    "    rl = []\n",
    "    \n",
    "    for i in range(len(l) - 1, -1, -1): #(Index of last element from the end, lower limit of the iteration, step value)\n",
    "        rl.append(l[i])\n",
    "        \n",
    "    return rl\n",
    "\n",
    "\n",
    "\n",
    "n = input('Enter the elements of the list to be separated using \",\" : ').split(',')\n",
    "l = [int(x) for x in n]\n",
    "rl = reverseof(l)\n",
    "print('The reversed list is : ', rl)"
   ]
  },
  {
   "cell_type": "code",
   "execution_count": 13,
   "id": "6ccd97b4-3858-4684-866a-4f3d87965e0c",
   "metadata": {},
   "outputs": [
    {
     "name": "stdin",
     "output_type": "stream",
     "text": [
      "Enter the elements of the list to be separated using \",\" :  1,2,3,4,5\n",
      "Enter the elements of the list to be separated using \",\" :  2,4,6,8,10\n"
     ]
    },
    {
     "name": "stdout",
     "output_type": "stream",
     "text": [
      "The common elements from the two lists are :  [2, 4]\n"
     ]
    }
   ],
   "source": [
    "def checkforcommon(a1,b1):\n",
    "    c = []\n",
    "    \n",
    "    for i in a1:\n",
    "        for j in b1:\n",
    "            if i == j:\n",
    "                c.append(i)\n",
    "            \n",
    "    return c\n",
    "\n",
    "\n",
    "\n",
    "\n",
    "a=input('Enter the elements of the list to be separated using \",\" : ').split(',')\n",
    "a1 = [int(x) for x in a]\n",
    "\n",
    "b=input('Enter the elements of the list to be separated using \",\" : ').split(',')\n",
    "b1 = [int(x) for x in b]\n",
    "\n",
    "c =  checkforcommon(a1,b1)\n",
    "\n",
    "if c:\n",
    "    print('The common elements from the two lists are : ', c)\n",
    "    \n",
    "else:\n",
    "    print('There are no common elements in the list.')"
   ]
  },
  {
   "cell_type": "markdown",
   "id": "8285b0c4-1ad0-4812-9dd9-a02d96e64917",
   "metadata": {},
   "source": [
    "We make use of the in-built python function of items() to iterate through the keys and the values of a dictionary in Python\n",
    "\n",
    "Syntax:-\n",
    "\n",
    "dic = {1:'Apple';2:'Ball';3:'Cat';}\n",
    "\n",
    "for keys,values in dic.items():\n",
    "    #Write your logic here"
   ]
  },
  {
   "cell_type": "code",
   "execution_count": 14,
   "id": "556ae364-f58e-4775-9247-74f3fc67ba7e",
   "metadata": {},
   "outputs": [
    {
     "name": "stdout",
     "output_type": "stream",
     "text": [
      "Enter the two numbers of your desire : \n"
     ]
    },
    {
     "name": "stdin",
     "output_type": "stream",
     "text": [
      "Enter the first number :  10\n",
      "Enter the second number :  25\n"
     ]
    },
    {
     "name": "stdout",
     "output_type": "stream",
     "text": [
      "The Greatest Common Divisor of 10 and 25 is : 5\n"
     ]
    }
   ],
   "source": [
    "def findgcd(a,b):\n",
    "    if a<b:\n",
    "        a,b = b,a\n",
    "        \n",
    "    for i in range(b, 0, -1):\n",
    "        if a%i==0 and b%i==0:\n",
    "            return i\n",
    "\n",
    "\n",
    "\n",
    "print('Enter the two numbers of your desire : ')\n",
    "\n",
    "a = int(input('Enter the first number : '))\n",
    "b = int(input('Enter the second number : '))\n",
    "i = findgcd(a,b)\n",
    "\n",
    "print(f'The Greatest Common Divisor of {a} and {b} is : {i}')"
   ]
  },
  {
   "cell_type": "code",
   "execution_count": 15,
   "id": "89e1938d-cb14-4fe3-ad8b-de5d34810547",
   "metadata": {},
   "outputs": [
    {
     "name": "stdin",
     "output_type": "stream",
     "text": [
      "Enter a string of your desire :  KAYAK\n"
     ]
    },
    {
     "name": "stdout",
     "output_type": "stream",
     "text": [
      "KAYAK is palindromic in nature.\n"
     ]
    }
   ],
   "source": [
    "s = input('Enter a string of your desire : ')\n",
    "\n",
    "if s==s[::-1]:\n",
    "    print(f'{s} is palindromic in nature.')\n",
    "else:\n",
    "    print(f'{s} is not palindromic in nature.')\n",
    "    "
   ]
  },
  {
   "cell_type": "code",
   "execution_count": 2,
   "id": "158f664f-51b4-41c0-bdef-182dc79dc94b",
   "metadata": {},
   "outputs": [
    {
     "name": "stdin",
     "output_type": "stream",
     "text": [
      "Enter the elements of the list using \",\" as separation :  1,2,2,3,4,5,5,5,6,7,2,3\n"
     ]
    },
    {
     "name": "stdout",
     "output_type": "stream",
     "text": [
      "[1, 2, 2, 3, 4, 5, 5, 5, 6, 7, 2, 3]\n",
      "The unique list is :  [1, 2, 3, 4, 5, 6, 7]\n"
     ]
    }
   ],
   "source": [
    "def uniquel(l):\n",
    "    ul=[]\n",
    "    \n",
    "    for i in l:\n",
    "        if i not in ul:\n",
    "            ul.append(i)\n",
    "            \n",
    "    return ul\n",
    "\n",
    "\n",
    "\n",
    "\n",
    "s = input('Enter the elements of the list using \",\" as separation : ').split(',')\n",
    "l = [int(x) for x in s]\n",
    "print(l)\n",
    "ul = uniquel(l)\n",
    "print('The unique list is : ', ul)"
   ]
  },
  {
   "cell_type": "code",
   "execution_count": 4,
   "id": "03cadfb1-89da-4518-a1a4-e4373b213cd3",
   "metadata": {},
   "outputs": [
    {
     "name": "stdin",
     "output_type": "stream",
     "text": [
      "Enter a sentence of your choice :  Hello Bro from Mars\n"
     ]
    },
    {
     "name": "stdout",
     "output_type": "stream",
     "text": [
      "The total number of words in Hello Bro from Mars is : 4\n",
      "The total count of words in the sentence is :  4\n"
     ]
    }
   ],
   "source": [
    "s = input('Enter a sentence of your choice : ')\n",
    "l = s.split()\n",
    "x = len(l)\n",
    "print(f'The total number of words in {s} is : {x}')\n",
    "c = 0\n",
    "for i in l:\n",
    "    c = c+1\n",
    "print('The total count of words in the sentence is : ',c)"
   ]
  },
  {
   "cell_type": "code",
   "execution_count": 6,
   "id": "a90ae301-7bd9-4f0e-8f1e-2d8f871cbed9",
   "metadata": {},
   "outputs": [
    {
     "name": "stdout",
     "output_type": "stream",
     "text": [
      "625\n"
     ]
    }
   ],
   "source": [
    "s = 0\n",
    "for i in range(1,51,1):\n",
    "    if i%2!=0:\n",
    "        s=s+i\n",
    "    \n",
    "print(s)"
   ]
  },
  {
   "cell_type": "code",
   "execution_count": 17,
   "id": "b7690e4e-f950-47ea-9238-8b2a3161c32c",
   "metadata": {},
   "outputs": [
    {
     "name": "stdin",
     "output_type": "stream",
     "text": [
      "Enter the year to be checked by the user :  2006\n"
     ]
    },
    {
     "name": "stdout",
     "output_type": "stream",
     "text": [
      "2006 is not a leap year\n"
     ]
    }
   ],
   "source": [
    "def leapcheck(n):\n",
    "    \n",
    "    \n",
    "        if ((n%4==0 and n%100!=0)or(n%400==0)):\n",
    "            return True\n",
    "        else:\n",
    "            return False\n",
    "        \n",
    "    \n",
    "\n",
    "\n",
    "\n",
    "\n",
    "n = int(input('Enter the year to be checked by the user : '))\n",
    "x =  leapcheck(n)\n",
    "if x:\n",
    "    print(f'{n} is a leap year')\n",
    "else:\n",
    "    print(f'{n} is not a leap year')\n",
    "    "
   ]
  },
  {
   "cell_type": "code",
   "execution_count": 32,
   "id": "19d6eb3c-26f2-414f-a95b-cc29c8a8e05e",
   "metadata": {},
   "outputs": [
    {
     "name": "stdin",
     "output_type": "stream",
     "text": [
      "Enter the number :  26\n"
     ]
    },
    {
     "name": "stdout",
     "output_type": "stream",
     "text": [
      "The squareroot of 26.0 is 5.1\n"
     ]
    }
   ],
   "source": [
    "def checkroot(n):\n",
    "    if n<0:\n",
    "        return 'Invalid Input'\n",
    "    if n==0:\n",
    "        return 0\n",
    "    \n",
    "    for i in range(1,int(n+1)):\n",
    "        if i*i==n:\n",
    "            return i\n",
    "        elif i*i>n:\n",
    "            #Applying Newton's SquareRoot Approximation where we use the formula : a(n+1) = (a(n) + (x-(a(n)^2))/(2*a(n)) \n",
    "            #Here, a(n) ie, i - 1, represents the integer part of squareroot\n",
    "            #x-a(n)^2 represents the rest of the part of the squareroot\n",
    "            #Dividing it by 2*a(n) is a derivative step as f'a(n) = 2*(i-1)\n",
    "            return i-1+ (n-(i-1)**2)/(2*(i-1))\n",
    "        else:\n",
    "            continue\n",
    "\n",
    "\n",
    "n = float(input('Enter the number : '))\n",
    "f = checkroot(n)\n",
    "print(f'The squareroot of {n} is {f}')"
   ]
  },
  {
   "cell_type": "code",
   "execution_count": 3,
   "id": "bfb98bc4-7c00-43ad-8225-629566ee04ca",
   "metadata": {},
   "outputs": [
    {
     "name": "stdin",
     "output_type": "stream",
     "text": [
      "Enter the number :  25\n",
      "Enter the number :  26\n"
     ]
    },
    {
     "name": "stdout",
     "output_type": "stream",
     "text": [
      "The LCM of 25 and 26 : 650\n"
     ]
    }
   ],
   "source": [
    "def lcmx(num1, num2):\n",
    "    maxn = max(num1, num2)\n",
    "    \n",
    "    lc = maxn\n",
    "    \n",
    "    while True:\n",
    "        if lc%num1==0 and lc%num2==0:\n",
    "            return lc\n",
    "        lc = lc + maxn\n",
    "    \n",
    "    \n",
    "    \n",
    "\n",
    "\n",
    "\n",
    "num1 = int(input('Enter the number : '))\n",
    "num2 = int(input('Enter the number : '))\n",
    "\n",
    "l = lcmx(num1, num2)\n",
    "\n",
    "print(f'The LCM of {num1} and {num2} : {l}')"
   ]
  },
  {
   "cell_type": "code",
   "execution_count": null,
   "id": "de3c71d9-01ca-4b06-8712-39541e66916e",
   "metadata": {},
   "outputs": [],
   "source": []
  },
  {
   "cell_type": "markdown",
   "id": "fa459431-d04f-459d-8e43-a314a2b735d9",
   "metadata": {},
   "source": [
    "\n",
    "If else :\n"
   ]
  },
  {
   "cell_type": "code",
   "execution_count": 4,
   "id": "2f83e244-7ecd-4990-ac60-0d7cc6b329cb",
   "metadata": {},
   "outputs": [
    {
     "name": "stdin",
     "output_type": "stream",
     "text": [
      "Enter a number as desired by the user :  -10\n"
     ]
    },
    {
     "name": "stdout",
     "output_type": "stream",
     "text": [
      "-10 is negative\n"
     ]
    }
   ],
   "source": [
    "n = int(input('Enter a number as desired by the user : '))\n",
    "\n",
    "if n<0:\n",
    "    print(f'{n} is negative')\n",
    "elif n==0:\n",
    "    print(f'{n} is zero')\n",
    "else:\n",
    "    print(f'{n} is positive')"
   ]
  },
  {
   "cell_type": "code",
   "execution_count": 5,
   "id": "ce20b248-1b82-4ab5-9332-9ad9b2bbce9f",
   "metadata": {},
   "outputs": [
    {
     "name": "stdin",
     "output_type": "stream",
     "text": [
      "Enter the number as desired by the user :  7\n"
     ]
    },
    {
     "name": "stdout",
     "output_type": "stream",
     "text": [
      "7 is an odd number.\n"
     ]
    }
   ],
   "source": [
    "n = int(input('Enter the number as desired by the user : '))\n",
    "\n",
    "if n%2==0:\n",
    "    print(f'{n} is an even number.')\n",
    "else:\n",
    "    print(f'{n} is an odd number.')"
   ]
  },
  {
   "cell_type": "markdown",
   "id": "e0b72b0a-7d8f-4082-a495-0b76b878d44b",
   "metadata": {},
   "source": [
    "\n",
    "\n",
    "In Python, you can use nested if-else statements to create conditional logic where one if-else statement is contained within another. This allows you to handle more complex conditions and execute different blocks of code based on the evaluation of multiple conditions.\n",
    "\n",
    "The general syntax for nested if-else statements in Python looks like this:\n",
    "\n",
    "python\n",
    "Copy code\n",
    "if condition1:\n",
    "    # Code to execute when condition1 is True\n",
    "    if nested_condition1:\n",
    "        # Code to execute when both condition1 and nested_condition1 are True\n",
    "    else:\n",
    "        # Code to execute when condition1 is True but nested_condition1 is False\n",
    "else:\n",
    "    # Code to execute when condition1 is False\n",
    "Here's an example to illustrate the use of nested if-else statements:\n",
    "\n",
    "\n",
    "num = int(input(\"Enter a number: \"))\n",
    "\n",
    "if num > 0:\n",
    "    print(\"The number is positive.\")\n",
    "    if num % 2 == 0:\n",
    "        print(\"The number is even.\")\n",
    "    else:\n",
    "        print(\"The number is odd.\")\n",
    "else:\n",
    "    if num == 0:\n",
    "        print(\"The number is zero.\")\n",
    "    else:\n",
    "        print(\"The number is negative.\")\n",
    "\n",
    "print(\"Program finished.\")"
   ]
  },
  {
   "cell_type": "code",
   "execution_count": 7,
   "id": "8f63bf63-bde0-4b4c-9f11-0a1ba38cdf12",
   "metadata": {},
   "outputs": [
    {
     "name": "stdin",
     "output_type": "stream",
     "text": [
      "Enter 1st number :  10\n",
      "Enter 2nd number :  23\n",
      "Enter 3rd number :  42\n"
     ]
    },
    {
     "name": "stdout",
     "output_type": "stream",
     "text": [
      "42 is the greatest\n"
     ]
    }
   ],
   "source": [
    "n1= int(input('Enter 1st number : '))\n",
    "n2 = int(input('Enter 2nd number : '))\n",
    "n3 = int(input('Enter 3rd number : '))\n",
    "\n",
    "if n1>n2 and n1>n3:\n",
    "    print(f'{n1} is the greatest')\n",
    "elif n2>n3:\n",
    "    print(f'{n2} is the greatest')\n",
    "else:\n",
    "    print(f'{n3} is the greatest')"
   ]
  },
  {
   "cell_type": "code",
   "execution_count": 8,
   "id": "4d3e91b2-6fc0-4bd9-baa3-882cc398f77a",
   "metadata": {},
   "outputs": [
    {
     "name": "stdin",
     "output_type": "stream",
     "text": [
      "Enter the number for the maximum value estimation :  90\n"
     ]
    },
    {
     "name": "stdout",
     "output_type": "stream",
     "text": [
      "The absolute value is :  90\n"
     ]
    }
   ],
   "source": [
    "n = int(input('Enter the number for the maximum value estimation : '))\n",
    "\n",
    "if n<0:\n",
    "    absvalue = -n\n",
    "else:\n",
    "    absvalue = n\n",
    "    \n",
    "print('The absolute value is : ', absvalue)"
   ]
  },
  {
   "cell_type": "code",
   "execution_count": 10,
   "id": "bbddd203-15ec-480e-ad5d-7b4444b4c0f8",
   "metadata": {},
   "outputs": [
    {
     "name": "stdin",
     "output_type": "stream",
     "text": [
      "Enter a character of your choice :  y\n"
     ]
    },
    {
     "name": "stdout",
     "output_type": "stream",
     "text": [
      "y is not a vowel\n"
     ]
    }
   ],
   "source": [
    "vowels = 'aeiouAEIOU'\n",
    "\n",
    "c = input('Enter a character of your choice : ')\n",
    "\n",
    "if c in vowels:\n",
    "    print(f'{c} is a vowel')\n",
    "else:\n",
    "    print(f'{c} is not a vowel')"
   ]
  },
  {
   "cell_type": "code",
   "execution_count": 12,
   "id": "abb4b1ea-5413-4a2d-84e8-b00f6d1e4cf6",
   "metadata": {},
   "outputs": [
    {
     "name": "stdin",
     "output_type": "stream",
     "text": [
      "Enter the age of the User :  12\n"
     ]
    },
    {
     "name": "stdout",
     "output_type": "stream",
     "text": [
      "The User is not eligible to vote.\n"
     ]
    }
   ],
   "source": [
    "n = int(input('Enter the age of the User : '))\n",
    "\n",
    "if n<18:\n",
    "    print('The User is not eligible to vote.')\n",
    "else:\n",
    "    print('The User is eligible to vote.')"
   ]
  },
  {
   "cell_type": "code",
   "execution_count": 13,
   "id": "881e9a2e-6c03-447c-9821-1bdfbfa59779",
   "metadata": {},
   "outputs": [
    {
     "name": "stdin",
     "output_type": "stream",
     "text": [
      "Enter the price of your purchase :  10001\n"
     ]
    },
    {
     "name": "stdout",
     "output_type": "stream",
     "text": [
      "Customer is eligible for an discount of 10%\n",
      "The discount amount is :  1000.1\n",
      "The new price is :  9000.9\n"
     ]
    }
   ],
   "source": [
    "n = int(input('Enter the price of your purchase : '))\n",
    "\n",
    "if n>10000:\n",
    "    print('Customer is eligible for an discount of 10%')\n",
    "    print('The discount amount is : ', (n*0.1))\n",
    "    print('The new price is : ', n - (n*0.1))\n",
    "    \n",
    "else:\n",
    "    print('The Customer is not eligible for a discount')"
   ]
  },
  {
   "cell_type": "code",
   "execution_count": 14,
   "id": "97ba825c-4a57-4ff5-af99-16a46a11f7ad",
   "metadata": {},
   "outputs": [
    {
     "name": "stdin",
     "output_type": "stream",
     "text": [
      "Enter the number of your choice :  14\n",
      "Enter the upper limit of the specified range :  10\n"
     ]
    },
    {
     "name": "stdout",
     "output_type": "stream",
     "text": [
      "14 is not in the range.\n"
     ]
    }
   ],
   "source": [
    "n = int(input('Enter the number of your choice : '))\n",
    "m = int(input('Enter the upper limit of the specified range : '))\n",
    "\n",
    "if n in range(m):\n",
    "    print(f'{n} is in the range.')\n",
    "else:\n",
    "    print(f'{n} is not in the range.')\n",
    "    "
   ]
  },
  {
   "cell_type": "code",
   "execution_count": 15,
   "id": "1ea4722d-bada-4a01-a7bb-3eca017fac3e",
   "metadata": {},
   "outputs": [
    {
     "name": "stdin",
     "output_type": "stream",
     "text": [
      "Enter the marks of the student :  67\n"
     ]
    },
    {
     "name": "stdout",
     "output_type": "stream",
     "text": [
      "Grade B\n"
     ]
    }
   ],
   "source": [
    "n = int(input('Enter the marks of the student : '))\n",
    "\n",
    "if 80<=n<=100:\n",
    "    print('Grade A')\n",
    "elif 60<=n<=79:\n",
    "    print('Grade B')\n",
    "elif 40<=n<=59:\n",
    "    print('Grade C')\n",
    "else:\n",
    "    print('Failed')"
   ]
  },
  {
   "cell_type": "code",
   "execution_count": 17,
   "id": "c4ee368b-bb83-4f87-addd-11ba00ffb814",
   "metadata": {},
   "outputs": [
    {
     "name": "stdout",
     "output_type": "stream",
     "text": [
      "The string is empty.\n"
     ]
    }
   ],
   "source": [
    "s = ' '\n",
    "l = s.split()\n",
    "if len(l)==0:\n",
    "    print('The string is empty.')\n",
    "else:\n",
    "    print('The string is not empty.')"
   ]
  },
  {
   "cell_type": "code",
   "execution_count": 2,
   "id": "b5d34672-4bb1-4944-9bd3-7b0853eece32",
   "metadata": {},
   "outputs": [
    {
     "name": "stdout",
     "output_type": "stream",
     "text": [
      "Enter the three sides of the triangle : \n"
     ]
    },
    {
     "name": "stdin",
     "output_type": "stream",
     "text": [
      "Enter the length of the first side of the triangle :  4\n",
      "Enter the length of the second side of the triangle :  23\n",
      "Enter the length of the third side of the triangle :  4\n"
     ]
    },
    {
     "name": "stdout",
     "output_type": "stream",
     "text": [
      "It is an isosceles triangle.\n"
     ]
    }
   ],
   "source": [
    "print('Enter the three sides of the triangle : ')\n",
    "s1 = int(input('Enter the length of the first side of the triangle : '))\n",
    "s2 = int(input('Enter the length of the second side of the triangle : '))\n",
    "s3 = int(input('Enter the length of the third side of the triangle : '))\n",
    "\n",
    "\n",
    "if s1==s2==s3:\n",
    "    print('It is an equilateral triangle.')\n",
    "elif s1==s2 or s2==s3 or s3==s1:\n",
    "    print('It is an isosceles triangle.')\n",
    "else:\n",
    "    print('It is a scalene triangle.')"
   ]
  },
  {
   "cell_type": "code",
   "execution_count": 3,
   "id": "8dc55f0a-fabb-4a28-b1ff-3211d68c7a7a",
   "metadata": {},
   "outputs": [
    {
     "name": "stdin",
     "output_type": "stream",
     "text": [
      "Enter the number between 1 and 7 as desired by the user :  5\n"
     ]
    },
    {
     "name": "stdout",
     "output_type": "stream",
     "text": [
      "Friday\n"
     ]
    }
   ],
   "source": [
    "dict = {1:'Monday',2:'Tuesday',3:'Wednesday',4:'Thursday',5:'Friday',6:'Saturday',7:'Sunday'}\n",
    "\n",
    "n = int(input('Enter the number between 1 and 7 as desired by the user : '))\n",
    "\n",
    "for key,value in dict.items():\n",
    "    if key == 1 :\n",
    "        if n == key :\n",
    "            print(value)\n",
    "    elif key == 2:\n",
    "        if n == 2:\n",
    "            print(value)\n",
    "    elif key == 3:\n",
    "        if n == key:\n",
    "            print(value)\n",
    "    elif key == 4:\n",
    "        if n== key:\n",
    "            print(value)\n",
    "    elif key == 5 :\n",
    "        if n==key:\n",
    "            print(value)\n",
    "    elif key == 6 :\n",
    "        if n== key:\n",
    "            print(value)\n",
    "    elif key == 7 :\n",
    "        if n==key:\n",
    "            print(value)\n",
    "if n<1 or n>7:\n",
    "     print('Out of the bounds error')\n",
    "            \n",
    "\n",
    "\n"
   ]
  },
  {
   "cell_type": "code",
   "execution_count": 5,
   "id": "37b09b1b-a072-436a-87b0-528a359b3d7e",
   "metadata": {},
   "outputs": [
    {
     "name": "stdin",
     "output_type": "stream",
     "text": [
      "Enter the year of your choice :  2009\n"
     ]
    },
    {
     "name": "stdout",
     "output_type": "stream",
     "text": [
      "2009 is not a leap year\n"
     ]
    }
   ],
   "source": [
    "year = int(input('Enter the year of your choice : '))\n",
    "\n",
    "if (year%4==0 and year%100!=0) or (year%400==0): \n",
    "    print(f'{year} is a leap year')\n",
    "\n",
    "\n",
    "else:\n",
    "    print(f'{year} is not a leap year')"
   ]
  },
  {
   "cell_type": "markdown",
   "id": "36c837d3-dafa-479c-bb56-2816257d81c4",
   "metadata": {},
   "source": [
    "\n",
    "The assert statement in Python is used to add debugging checks within your code to ensure that a certain condition is met. If the condition provided to assert evaluates to False, it raises an AssertionError exception, which can help you identify and debug issues in your code during development.\n",
    "\n",
    "You can use assert within if-else blocks by placing it inside the block and specifying the condition you want to check. Here's the basic syntax:\n",
    "\n",
    "python\n",
    "Copy code\n",
    "if condition:\n",
    "    # Code to execute if the condition is True\n",
    "    # ...\n",
    "else:\n",
    "    # Code to execute if the condition is False\n",
    "    # ...\n",
    "\n",
    " Adding an assertion within the if-else block\n",
    "\n",
    "\n",
    "assert some_condition, \"Optional error message\""
   ]
  },
  {
   "cell_type": "code",
   "execution_count": 6,
   "id": "a17e2e76-36cf-4938-ae50-43fdcbf57833",
   "metadata": {},
   "outputs": [
    {
     "name": "stdin",
     "output_type": "stream",
     "text": [
      "Enter the age of the person :  34\n"
     ]
    },
    {
     "name": "stdout",
     "output_type": "stream",
     "text": [
      "The person is not a senior citizen/He is not eligible for the discount\n"
     ]
    }
   ],
   "source": [
    "p = int(input('Enter the age of the person : '))\n",
    "\n",
    "if p<60:\n",
    "    print('The person is not a senior citizen/He is not eligible for the discount')\n",
    "else:\n",
    "    print('The person is identified to be a senior citizen : He/She is eligible for a discount of 10%')"
   ]
  },
  {
   "cell_type": "code",
   "execution_count": 7,
   "id": "770726be-977f-4d78-9320-703016c2f739",
   "metadata": {},
   "outputs": [
    {
     "name": "stdin",
     "output_type": "stream",
     "text": [
      "Enter the character of your choice :  &\n"
     ]
    },
    {
     "name": "stdout",
     "output_type": "stream",
     "text": [
      "& is some other kind of character.\n"
     ]
    }
   ],
   "source": [
    "p = input('Enter the character of your choice : ')\n",
    "\n",
    "if p.isupper():\n",
    "    print(f'{p} is an uppercase character.')\n",
    "elif p.islower():\n",
    "    print(f'{p} is a lowercase character.')\n",
    "else:\n",
    "    print(f'{p} is some other kind of character.')"
   ]
  },
  {
   "cell_type": "code",
   "execution_count": 8,
   "id": "07577a8e-26c5-48e1-b93d-ae5073ba9de1",
   "metadata": {},
   "outputs": [
    {
     "name": "stdin",
     "output_type": "stream",
     "text": [
      "Enter the value of the coefficient \"a\" :  5\n",
      "Enter the value of the coefficient \"b\" :  6\n",
      "Enter the value of the coefficient \"c\" :  8\n"
     ]
    },
    {
     "name": "stdout",
     "output_type": "stream",
     "text": [
      "First root is :  (-0.6+1.1135528725660042j)\n",
      "Second root is :  (-0.6-1.1135528725660042j)\n"
     ]
    }
   ],
   "source": [
    "import math\n",
    "\n",
    "a = int(input('Enter the value of the coefficient \"a\" : '))\n",
    "b = int(input('Enter the value of the coefficient \"b\" : '))\n",
    "c = int(input('Enter the value of the coefficient \"c\" : '))\n",
    "\n",
    "dis = b**2 - 4*a*c\n",
    "\n",
    "if dis > 0:\n",
    "    x1 = ((-b) + dis)/(2*a)\n",
    "    x2 = ((-b) - dis)/(2*a)\n",
    "    print('The first root is : ', x1)\n",
    "    print('The second root is : ', x2)\n",
    "elif dis == 0:\n",
    "    x = (-b)/(2*a)\n",
    "    print('The root of the equation is : ',x)\n",
    "else:\n",
    "    xreal = (-b)/(2*a)\n",
    "    ximaginary = math.sqrt(abs(dis))/(2*a)\n",
    "    print('First root is : ', complex(xreal, ximaginary))\n",
    "    print('Second root is : ', complex(xreal, -ximaginary))"
   ]
  },
  {
   "cell_type": "code",
   "execution_count": 9,
   "id": "67784795-c384-4805-a76f-405c5d606b23",
   "metadata": {},
   "outputs": [
    {
     "name": "stdin",
     "output_type": "stream",
     "text": [
      "Enter the given year of your choice :  2500\n"
     ]
    },
    {
     "name": "stdout",
     "output_type": "stream",
     "text": [
      "2500 is a century year.\n"
     ]
    }
   ],
   "source": [
    "n = int(input('Enter the given year of your choice : '))\n",
    "\n",
    "if n%100==0:\n",
    "    print(f'{n} is a century year.')\n",
    "else:\n",
    "    print(f'{n} is not a century year.')"
   ]
  },
  {
   "cell_type": "code",
   "execution_count": 13,
   "id": "7323870a-fdfe-4efa-aa0e-5a1d9e821c1a",
   "metadata": {},
   "outputs": [
    {
     "name": "stdin",
     "output_type": "stream",
     "text": [
      "Enter the number of your choice :  256\n"
     ]
    },
    {
     "name": "stdout",
     "output_type": "stream",
     "text": [
      "256 is a perfect square.\n"
     ]
    }
   ],
   "source": [
    "import math\n",
    "\n",
    "def perfsq(n):\n",
    "    \n",
    "    sqn = math.sqrt(n)\n",
    "    \n",
    "    if sqn.is_integer():\n",
    "        return True\n",
    "    else:\n",
    "        return False\n",
    "\n",
    "\n",
    "\n",
    "n = int(input('Enter the number of your choice : '))\n",
    "\n",
    "if perfsq(n):\n",
    "    print(f'{n} is a perfect square.')\n",
    "else:\n",
    "    print(f'{n} is not a perfect square.')"
   ]
  },
  {
   "cell_type": "markdown",
   "id": "2cbc676d-f307-432b-ba8b-08e5193da492",
   "metadata": {},
   "source": [
    "\"continue\" statement:\n",
    "\n",
    "The \"continue\" statement is used to skip the current iteration of a loop and move to the next iteration.\n",
    "It is often used when a certain condition is met, and you want to skip the remaining code in the current iteration and move to the next iteration.\n",
    "The loop does not terminate when \"continue\" is encountered; instead, it proceeds with the next iteration.\n",
    "\"continue\" is typically used in situations where you want to filter out specific items or conditions within a loop."
   ]
  },
  {
   "cell_type": "markdown",
   "id": "7adb3232-dd9d-4bec-bed8-dea96afa2217",
   "metadata": {},
   "source": [
    "\"break\" statement:\n",
    "\n",
    "The \"break\" statement is used to exit a loop prematurely when a certain condition is met.\n",
    "When \"break\" is encountered within a loop, the loop is immediately terminated, and the program continues executing the code after the loop.\n",
    "\"break\" is typically used when you want to exit a loop early, such as when a specific condition is satisfied or a particular task is completed."
   ]
  },
  {
   "cell_type": "code",
   "execution_count": 15,
   "id": "0c874293-c042-4732-9073-9b428d0695e1",
   "metadata": {},
   "outputs": [
    {
     "name": "stdin",
     "output_type": "stream",
     "text": [
      "Enter the value of BMI of the selected person :  22.0084\n"
     ]
    },
    {
     "name": "stdout",
     "output_type": "stream",
     "text": [
      "The person has normal weight\n"
     ]
    }
   ],
   "source": [
    "#Considering the Indian data for BMI as:-\n",
    "#CATEGORY\tBMI RANGE kg/m2\n",
    "#Underweight\t<18.5\n",
    "#Normal Weight\t18.5 - 24.9\n",
    "#Overweight\t25 - 29.9\n",
    "#Obese\t>30#\n",
    "\n",
    "n = float(input('Enter the value of BMI of the selected person : '))\n",
    "\n",
    "if n < 18.5:\n",
    "    print('The person is underweight')\n",
    "elif 18.5<=n<=24.9:\n",
    "    print('The person has normal weight')\n",
    "elif 25<=n<=29.9:\n",
    "    print('The person is overweight')\n",
    "else:\n",
    "    print('The person is OBESE')"
   ]
  },
  {
   "cell_type": "markdown",
   "id": "0336d54e-f421-417f-9bdb-3f014abf02ed",
   "metadata": {},
   "source": [
    "The filter() function in Python is used to filter elements from an iterable (like a list) based on a specified function or condition. It returns an iterator containing the elements for which the condition is True. While you can use filter() with a custom function that uses if-else statements to filter elements, a more common approach is to use a lambda function or a regular function to define the filtering condition.\n",
    "\n",
    "Here's how you can use the filter() function with a lambda function to filter elements from a list:\n",
    "\n",
    "\n",
    "numbers = [1, 2, 3, 4, 5, 6, 7, 8, 9, 10]\n",
    "\n",
    "\n",
    "filtered_numbers = filter(lambda x: x % 2 == 0, numbers)\n",
    "\n",
    "\n",
    "filtered_numbers_list = list(filtered_numbers)\n",
    "\n",
    "\n",
    "print(filtered_numbers_list)"
   ]
  },
  {
   "cell_type": "code",
   "execution_count": 17,
   "id": "446bc685-904b-4a87-b2fd-40ae83c73fd3",
   "metadata": {},
   "outputs": [
    {
     "name": "stdin",
     "output_type": "stream",
     "text": [
      "Enter the number of your choice :  8\n"
     ]
    },
    {
     "name": "stdout",
     "output_type": "stream",
     "text": [
      "8 is not a prime number.\n"
     ]
    }
   ],
   "source": [
    "def checkprime(n):\n",
    "    \n",
    "    if n<2:\n",
    "        return False\n",
    "    if n<=3:\n",
    "        return True\n",
    "    if n%2==0 or n%3==0:\n",
    "        return False\n",
    "    p = 5\n",
    "    while p*p<=n:\n",
    "        if n%p==0 or n%(p+2)==0:\n",
    "            return False\n",
    "        p = p + 6\n",
    "        \n",
    "    return True\n",
    "\n",
    "\n",
    "\n",
    "\n",
    "\n",
    "n = int(input('Enter the number of your choice : '))\n",
    "\n",
    "if checkprime(n):\n",
    "    print(f'{n} is a prime number.')\n",
    "else:\n",
    "    print(f'{n} is not a prime number.')"
   ]
  },
  {
   "cell_type": "markdown",
   "id": "7b0a518f-9d17-47ff-8751-7f5725c38480",
   "metadata": {},
   "source": [
    "map(function, iterable)\n",
    "function: The function to apply to each element in the iterable.\n",
    "iterable: The iterable whose elements you want to process.\n",
    "Here's an example of how you can use the map() function to apply a function to each element of a list:\n",
    "\n",
    "\n"
   ]
  },
  {
   "cell_type": "code",
   "execution_count": 18,
   "id": "f73d8932-134f-4d13-8b6b-5a7a7fc55a78",
   "metadata": {},
   "outputs": [
    {
     "name": "stdin",
     "output_type": "stream",
     "text": [
      "Enter the numbers of the list using \",\" as a separator :  2,3,4,5,6\n"
     ]
    },
    {
     "name": "stdout",
     "output_type": "stream",
     "text": [
      "[4, 9, 16, 25, 36]\n"
     ]
    }
   ],
   "source": [
    "def func(x):\n",
    "    return x*x\n",
    "\n",
    "\n",
    "s = input('Enter the numbers of the list using \",\" as a separator : ').split(',')\n",
    "l = [int(x) for x in s]\n",
    "\n",
    "sqn = map(func,l)\n",
    "\n",
    "sqnlist = list(sqn)\n",
    "\n",
    "print(sqnlist)"
   ]
  },
  {
   "cell_type": "raw",
   "id": "9cc98dc3-30aa-4aa8-b7b8-922c5b636760",
   "metadata": {},
   "source": [
    "\n",
    "The map() function and list comprehensions in Python both provide ways to transform data in iterables, but they have different syntax and use cases. Here's how they differ and when you might choose one over the other:\n",
    "\n",
    "Syntax:\n",
    "\n",
    "map(): The map() function applies a specified function to each element of an iterable. It takes the function and the iterable as arguments.\n",
    "\n",
    "List Comprehension: List comprehensions are a concise way to create lists by applying an expression to each item in an iterable and optionally filtering items based on a condition. They have a compact syntax and use square brackets.\n",
    "\n",
    "Readability:\n",
    "\n",
    "map(): While map() is a built-in function, it can sometimes be less readable than list comprehensions, especially when using lambda functions, as the lambda function syntax can be less intuitive for complex operations.\n",
    "\n",
    "List Comprehension: List comprehensions are known for their readability and conciseness. They often make the code more self-explanatory, especially for simple operations.\n",
    "\n",
    "Use Cases:\n",
    "\n",
    "map(): Use map() when you want to apply the same function to every item in an iterable. It's a good choice when you have an existing function that you want to reuse.\n",
    "\n",
    "List Comprehension: Use list comprehensions when you want to create a new list by transforming and possibly filtering elements from an existing iterable. List comprehensions are flexible and allow for more complex expressions and conditions.\n",
    "\n",
    "Here's a comparison between map() and list comprehension for the same task:\n",
    "\n",
    "Using map():\n",
    "\n",
    "numbers = [1, 2, 3, 4, 5]\n",
    "squared_numbers = map(lambda x: x * x, numbers)\n",
    "squared_numbers_list = list(squared_numbers)\n",
    "\n",
    "\n",
    "Using list comprehension:\n",
    "\n",
    "numbers = [1, 2, 3, 4, 5]\n",
    "squared_numbers = [x * x for x in numbers]\n",
    "\n",
    "\n",
    "\n",
    "In this case, the list comprehension is more concise and arguably easier to read. List comprehensions are often favored for simple transformations and filtering operations. However, if you have an existing function or want to apply the same operation to multiple lists, map() might be a better choice. Ultimately, the decision between map() and list comprehension depends on your specific use case and coding style preferences."
   ]
  },
  {
   "cell_type": "code",
   "execution_count": 2,
   "id": "f3d9e95d-63ec-4e86-a041-dfc034e09c5c",
   "metadata": {},
   "outputs": [
    {
     "name": "stdin",
     "output_type": "stream",
     "text": [
      "Enter full names and separate them using \",\" Ayonabh Chakraborty, Aniket Ghosh, Subhakar Kundu, Ramnath Samnath\n"
     ]
    },
    {
     "name": "stdout",
     "output_type": "stream",
     "text": [
      "['AYONABH CHAKRABORTY', ' ANIKET GHOSH', ' SUBHAKAR KUNDU', ' RAMNATH SAMNATH']\n"
     ]
    }
   ],
   "source": [
    "def func(a):\n",
    "    return a.upper()\n",
    "\n",
    "s = input('Enter full names and separate them using \",\"').split(',')\n",
    "l = [x for x in s]\n",
    "\n",
    "upcase = map(func,l)\n",
    "\n",
    "upcaselist = list(upcase)\n",
    "\n",
    "print(upcaselist)"
   ]
  },
  {
   "cell_type": "code",
   "execution_count": 8,
   "id": "a503db72-ca86-4b52-af8e-634837aae5be",
   "metadata": {},
   "outputs": [
    {
     "name": "stdin",
     "output_type": "stream",
     "text": [
      "Enter a sentence :  The quick fox jump over the lazy brown dog\n"
     ]
    },
    {
     "name": "stdout",
     "output_type": "stream",
     "text": [
      "['The', 'quick', 'fox', 'jump', 'over', 'the', 'lazy', 'brown', 'dog']\n",
      " Word : The -> Length : 3\n",
      " Word : quick -> Length : 5\n",
      " Word : fox -> Length : 3\n",
      " Word : jump -> Length : 4\n",
      " Word : over -> Length : 4\n",
      " Word : the -> Length : 3\n",
      " Word : lazy -> Length : 4\n",
      " Word : brown -> Length : 5\n",
      " Word : dog -> Length : 3\n"
     ]
    }
   ],
   "source": [
    "\n",
    "s = input('Enter a sentence : ')\n",
    "l = s.split()\n",
    "print(l)\n",
    "\n",
    "lenofwords = list(map(len, l))\n",
    "\n",
    "for i,j in zip(l,lenofwords):\n",
    "    print(f' Word : {i} -> Length : {j}')\n",
    "\n"
   ]
  },
  {
   "cell_type": "raw",
   "id": "d3861a7d-20d2-4645-bd06-11d0cbc378c3",
   "metadata": {},
   "source": [
    "Map Func can be used to be iterated over multiple lists based over the same function as follows:-\n",
    "\n",
    "\n",
    "def multi(a,b):\n",
    "    return a*b\n",
    "\n",
    "#Define list 1\n",
    "l1  = [...]\n",
    "#Define list 2\n",
    "l2 = [...]\n",
    "\n",
    "res = list(map(multi, l1, l2))\n",
    "\n",
    "print(res)"
   ]
  },
  {
   "cell_type": "code",
   "execution_count": 13,
   "id": "c5cca40f-3f3a-40bc-bd8e-88b8f6562cd4",
   "metadata": {},
   "outputs": [
    {
     "name": "stdin",
     "output_type": "stream",
     "text": [
      "Enter a list of temperatures and separate them using \",\" :  25.24, 33.67, 69, 13\n"
     ]
    },
    {
     "name": "stdout",
     "output_type": "stream",
     "text": [
      "The temperature in Celsius is :  [25.24, 33.67, 69.0, 13.0]\n",
      " Celsius = 25.24 : Fahrenheit = 77.43199999999999\n",
      " Celsius = 33.67 : Fahrenheit = 92.606\n",
      " Celsius = 69.0 : Fahrenheit = 156.2\n",
      " Celsius = 13.0 : Fahrenheit = 55.400000000000006\n"
     ]
    }
   ],
   "source": [
    "def converttof(a):\n",
    "    return ((a*1.8)+32)\n",
    "\n",
    "s = input('Enter a list of temperatures and separate them using \",\" : ').split(',')\n",
    "l = [float(x) for x in s]\n",
    "print('The temperature in Celsius is : ',l)\n",
    "\n",
    "fahren = list(map(converttof,l))\n",
    "\n",
    "for i,j in zip(l,fahren):\n",
    "    print(f' Celsius = {i} : Fahrenheit = {j}')\n"
   ]
  },
  {
   "cell_type": "code",
   "execution_count": 14,
   "id": "1e520937-c311-4390-a554-45f6da0a9a38",
   "metadata": {},
   "outputs": [
    {
     "name": "stdin",
     "output_type": "stream",
     "text": [
      "Enter floating-point numbers and separate them using \",\" :  123.5412, 2314.31451, 3451.4513\n"
     ]
    },
    {
     "name": "stdout",
     "output_type": "stream",
     "text": [
      "[123.5412, 2314.31451, 3451.4513]\n",
      " Nearest Integer Value of 123.5412 : 124\n",
      " Nearest Integer Value of 2314.31451 : 2314\n",
      " Nearest Integer Value of 3451.4513 : 3451\n"
     ]
    }
   ],
   "source": [
    "def func(a):\n",
    "    return round(a)\n",
    "\n",
    "\n",
    "\n",
    "s = input('Enter floating-point numbers and separate them using \",\" : ').split(',')\n",
    "l = [float(x) for x in s]\n",
    "print(l)\n",
    "\n",
    "\n",
    "result =  list(map(func, l))\n",
    "\n",
    "for i,j in zip(l, result):\n",
    "    print(f' Nearest Integer Value of {i} : {j}')"
   ]
  },
  {
   "cell_type": "code",
   "execution_count": null,
   "id": "304420b7-b818-47e8-b9a7-2136efc957ac",
   "metadata": {},
   "outputs": [],
   "source": []
  },
  {
   "cell_type": "markdown",
   "id": "02e87528-d491-4297-b470-99de6aac27d2",
   "metadata": {},
   "source": [
    "The reduce() function in Python is used to apply a given function to the elements of an iterable in a cumulative way, reducing the iterable to a single accumulated result. It is part of the functools module, so you need to import this module to use it.\n",
    "\n",
    "Here's the basic syntax of the reduce() function:\n",
    "\n",
    "functools.reduce(function, iterable, [initializer])\n",
    "\n",
    "function: The function to apply cumulatively to the items of the iterable.\n",
    "iterable: The iterable (e.g., a list, tuple, or string) whose elements you want to process.\n",
    "initializer (optional): An optional initial value. If provided, the function will start with this initial value and accumulate the results from there.\n",
    "\n"
   ]
  },
  {
   "cell_type": "code",
   "execution_count": null,
   "id": "1c6e32d9-bd1c-4328-9909-ed307543af22",
   "metadata": {},
   "outputs": [],
   "source": []
  },
  {
   "cell_type": "code",
   "execution_count": 15,
   "id": "4fdf1538-2db9-4770-9f8e-69ec2428b46f",
   "metadata": {},
   "outputs": [
    {
     "name": "stdin",
     "output_type": "stream",
     "text": [
      "Entet numbers for the list and separate them using \",\" :  123124,52352,3452345\n"
     ]
    },
    {
     "name": "stdout",
     "output_type": "stream",
     "text": [
      "[123124, 52352, 3452345]\n",
      "22253082757634560\n"
     ]
    }
   ],
   "source": [
    "import functools\n",
    "\n",
    "def mul(a,b):\n",
    "    return a*b\n",
    "\n",
    "s = input('Entet numbers for the list and separate them using \",\" : ').split(',')\n",
    "l = [int(x) for x in s]\n",
    "print(l)\n",
    "\n",
    "result = functools.reduce(mul,l)\n",
    "\n",
    "print(result)"
   ]
  },
  {
   "cell_type": "code",
   "execution_count": 17,
   "id": "9495c173-1365-44f1-a659-bc3f525138dc",
   "metadata": {},
   "outputs": [
    {
     "name": "stdin",
     "output_type": "stream",
     "text": [
      "Entet numbers for the list and separate them using \",\" :  1,2,3,4,5,6,7\n"
     ]
    },
    {
     "name": "stdout",
     "output_type": "stream",
     "text": [
      "[1, 2, 3, 4, 5, 6, 7]\n",
      "7\n"
     ]
    }
   ],
   "source": [
    "def findmax(a,b):\n",
    "    return max(a,b)\n",
    "\n",
    "s = input('Entet numbers for the list and separate them using \",\" : ').split(',')\n",
    "l = [int(x) for x in s]\n",
    "print(l)\n",
    "\n",
    "result = functools.reduce(findmax,l)\n",
    "\n",
    "print(result)"
   ]
  },
  {
   "cell_type": "code",
   "execution_count": 18,
   "id": "e1bd8253-af58-43a2-a8c1-f9d989c19e5d",
   "metadata": {},
   "outputs": [
    {
     "name": "stdin",
     "output_type": "stream",
     "text": [
      "Enter a full sentence :  Hello Bro From Mars\n"
     ]
    },
    {
     "name": "stdout",
     "output_type": "stream",
     "text": [
      "HelloBroFromMars\n"
     ]
    }
   ],
   "source": [
    "s = input('Enter a full sentence : ')\n",
    "l = s.split()\n",
    "\n",
    "def joinstr(a,b):\n",
    "    return a+b\n",
    "\n",
    "res = functools.reduce(joinstr, l)\n",
    "\n",
    "print(res)"
   ]
  },
  {
   "cell_type": "code",
   "execution_count": 21,
   "id": "99a4633c-8653-48ca-a9bf-2e883665fcc3",
   "metadata": {},
   "outputs": [
    {
     "name": "stdin",
     "output_type": "stream",
     "text": [
      "Enter the number whose factorial is to be calculated :  7\n"
     ]
    },
    {
     "name": "stdout",
     "output_type": "stream",
     "text": [
      "5040\n"
     ]
    }
   ],
   "source": [
    "n = int(input('Enter the number whose factorial is to be calculated : '))\n",
    "\n",
    "def facto1(x,y):\n",
    "    return x*y\n",
    "\n",
    "res =  functools.reduce(facto1, range(1,n+1),1)\n",
    "\n",
    "print(res)"
   ]
  },
  {
   "cell_type": "code",
   "execution_count": 4,
   "id": "dff28b53-ae17-4bdd-b831-912379cdd06d",
   "metadata": {},
   "outputs": [
    {
     "name": "stdin",
     "output_type": "stream",
     "text": [
      "Enter the elements of the list and separate them using \",\" :  2,4,6\n"
     ]
    },
    {
     "name": "stdout",
     "output_type": "stream",
     "text": [
      "2\n"
     ]
    }
   ],
   "source": [
    "import functools\n",
    "import math\n",
    "\n",
    "s = input('Enter the elements of the list and separate them using \",\" : ').split(',')\n",
    "l = [int(x) for x in s]\n",
    "\n",
    "\n",
    "def findgcd(a,b):\n",
    "    return math.gcd(a,b)\n",
    "\n",
    "res = functools.reduce(findgcd, l)\n",
    "\n",
    "print(res)"
   ]
  },
  {
   "cell_type": "code",
   "execution_count": 6,
   "id": "34a81e72-e0c1-4e07-a167-aafd83baca05",
   "metadata": {},
   "outputs": [
    {
     "name": "stdin",
     "output_type": "stream",
     "text": [
      "Enter a number of your choice :  79\n"
     ]
    },
    {
     "name": "stdout",
     "output_type": "stream",
     "text": [
      "16\n"
     ]
    }
   ],
   "source": [
    "n = input('Enter a number of your choice : ')\n",
    "\n",
    "def adddigits(a,b):\n",
    "    return int(a) + int(b)\n",
    "\n",
    "res = functools.reduce(adddigits, n)\n",
    "\n",
    "print(res)\n"
   ]
  },
  {
   "cell_type": "code",
   "execution_count": null,
   "id": "4bca2703-7a5f-41cc-b3ee-04003c7b893b",
   "metadata": {},
   "outputs": [],
   "source": []
  },
  {
   "cell_type": "code",
   "execution_count": 11,
   "id": "23af28bd-5401-4d70-9350-f3439f0e3eea",
   "metadata": {},
   "outputs": [
    {
     "name": "stdin",
     "output_type": "stream",
     "text": [
      "Enter the elements of the list and separate them using \",\" :  1,2,3,4,5,6,7,8\n"
     ]
    },
    {
     "name": "stdout",
     "output_type": "stream",
     "text": [
      "[1, 2, 3, 4, 5, 6, 7, 8]\n",
      "[2, 4, 6, 8]\n"
     ]
    }
   ],
   "source": [
    "s = input('Enter the elements of the list and separate them using \",\" : ').split(',')\n",
    "l = [int(x) for x in s]\n",
    "print(l)\n",
    "\n",
    "def checkeven(x):\n",
    "    return x%2==0\n",
    "\n",
    "res = list(filter(checkeven,l))\n",
    "\n",
    "\n",
    "print(res)\n",
    "\n",
    "\n",
    "\n",
    "\n"
   ]
  },
  {
   "cell_type": "code",
   "execution_count": 33,
   "id": "4f35cda0-8bf7-46b0-8bea-1aa1c766a8e5",
   "metadata": {},
   "outputs": [
    {
     "name": "stdin",
     "output_type": "stream",
     "text": [
      "Enter the list of strings to be iterated over and separate them using \",\" :  Kolkata, Bangalore, Pune, France\n"
     ]
    },
    {
     "name": "stdout",
     "output_type": "stream",
     "text": [
      "['Kolkata', 'Bangalore', 'Pune', 'France']\n"
     ]
    },
    {
     "name": "stdin",
     "output_type": "stream",
     "text": [
      "Enter the letter to check with the words :  f\n"
     ]
    },
    {
     "name": "stdout",
     "output_type": "stream",
     "text": [
      "Names starting with 'f' : ['France']\n"
     ]
    }
   ],
   "source": [
    "s = input('Enter the list of strings to be iterated over and separate them using \",\" : ').split(',')\n",
    "l = [x.strip() for x in s]\n",
    "print(l)\n",
    "\n",
    "n = input('Enter the letter to check with the words : ').lower()\n",
    "\n",
    "\n",
    "def checkstart(name):\n",
    "    return name.lower().startswith(n)\n",
    "\n",
    "res = filter(checkstart, l)\n",
    "\n",
    "res1 = list(res)\n",
    "\n",
    "print(f\"Names starting with '{n}' : {res1}\")\n",
    "\n"
   ]
  },
  {
   "cell_type": "code",
   "execution_count": 2,
   "id": "cdb4d2e8-8aa0-4548-be1c-31a8b091647a",
   "metadata": {},
   "outputs": [
    {
     "name": "stdin",
     "output_type": "stream",
     "text": [
      "Enter the numbers of your choice and separate them using \",\" :  23,45,67,89,09,54,34,78,97,34\n"
     ]
    },
    {
     "name": "stdout",
     "output_type": "stream",
     "text": [
      "The prime number is : 23\n",
      "The prime number is : 67\n",
      "The prime number is : 89\n",
      "The prime number is : 97\n"
     ]
    }
   ],
   "source": [
    "def findprime(n):\n",
    "    if n<=1:\n",
    "        return False\n",
    "    if n<=3:\n",
    "        return True\n",
    "    if n%2==0 or n%3==0:\n",
    "        return False\n",
    "    p = 5\n",
    "    while p*p<=n:\n",
    "        if n%p==0 or n%(p+2)==0:\n",
    "            return False\n",
    "        p=p+6\n",
    "        \n",
    "    return True\n",
    "\n",
    "\n",
    "\n",
    "s = input('Enter the numbers of your choice and separate them using \",\" : ').split(',')\n",
    "l = [int(x) for x in s]\n",
    "\n",
    "primeres = filter(findprime, l)\n",
    "\n",
    "for i in primeres:\n",
    "    print(f'The prime number is : {i}')"
   ]
  },
  {
   "cell_type": "raw",
   "id": "cc9bd75f-9d09-48d8-82ea-512e07b0ff5b",
   "metadata": {},
   "source": [
    "\n",
    "You can use the filter() function to remove None values from a list in Python by providing a filtering function that returns True for the values you want to keep and False for the values you want to remove. "
   ]
  },
  {
   "cell_type": "code",
   "execution_count": 4,
   "id": "0b233a6b-5250-467d-acc9-2a20cf343af0",
   "metadata": {},
   "outputs": [
    {
     "name": "stdin",
     "output_type": "stream",
     "text": [
      "Enter the nwords of your choice and separate them using \",\" :  pAssing, Out, Win , or, Lose, Far, more, shocking, I ,ever, knew\n",
      "Enter the minimum length of the words. 7\n"
     ]
    },
    {
     "name": "stdout",
     "output_type": "stream",
     "text": [
      "The words crossing the minimum length are : \n",
      " shocking\n"
     ]
    }
   ],
   "source": [
    "def fewx(n):\n",
    "      return  len(n) > x1\n",
    "        \n",
    "\n",
    "\n",
    "s = input('Enter the nwords of your choice and separate them using \",\" : ').split(',')\n",
    "l = [x for x in s]\n",
    "\n",
    "x1 = int(input('Enter the minimum length of the words.'))\n",
    "\n",
    "\n",
    "lx = filter(fewx, l)\n",
    "\n",
    "print('The words crossing the minimum length are : ')\n",
    "for i in lx:\n",
    "    print(i)"
   ]
  },
  {
   "cell_type": "code",
   "execution_count": 4,
   "id": "7f9fcb42-c1fe-4981-8b0a-1ebac51025d8",
   "metadata": {},
   "outputs": [
    {
     "name": "stdin",
     "output_type": "stream",
     "text": [
      "Enter the upper limit of the numbers :  20\n",
      "Enter any number of numerical input within the user-defined limit and separate them using \",\" :  12,2,45,6,8,90,34\n"
     ]
    },
    {
     "name": "stdout",
     "output_type": "stream",
     "text": [
      "The numbers above the given limit 20 is : \n",
      "45\n",
      "90\n",
      "34\n"
     ]
    }
   ],
   "source": [
    "def iteratort(n):\n",
    "    return n>xy\n",
    "\n",
    "xy = int(input('Enter the upper limit of the numbers : '))\n",
    "\n",
    "s = input('Enter any number of numerical input within the user-defined limit and separate them using \",\" : ').split(',')\n",
    "l = [int(x) for x in s]\n",
    "\n",
    "lx = list(filter(iteratort, l))\n",
    "\n",
    "\n",
    "print(f'The numbers above the given limit {xy} is : ')\n",
    "for i in lx:\n",
    "    print(i)\n",
    "\n",
    "\n"
   ]
  },
  {
   "cell_type": "raw",
   "id": "f365feaf-aa32-4c60-bcee-2cc47c9eb575",
   "metadata": {},
   "source": [
    "\n",
    "Recursion and iteration are two fundamental techniques for solving problems in programming. Let's explore the concept of recursion in Python and how it differs from iteration:\n",
    "\n",
    "Recursion:\n",
    "Recursion is a programming technique in which a function calls itself in order to solve a problem. In Python, a recursive function is a function that, in its process, invokes itself with a modified set of arguments until it reaches a base case, which is a condition where the function stops calling itself and returns a result. Recursive functions are often used for problems that can be broken down into smaller, similar subproblems.\n",
    "\n",
    "\n",
    "Iteration:\n",
    "Iteration, on the other hand, is a programming technique that involves using loops (e.g., for and while loops) to repeatedly execute a set of statements until a specified condition is met. In Python, you typically use for and while loops for iteration.\n"
   ]
  },
  {
   "cell_type": "code",
   "execution_count": 6,
   "id": "3db311a8-ebe5-450a-ba23-2a78bf433085",
   "metadata": {},
   "outputs": [
    {
     "name": "stdin",
     "output_type": "stream",
     "text": [
      "Enter the number of your desire :  19\n"
     ]
    },
    {
     "name": "stdout",
     "output_type": "stream",
     "text": [
      "The factorial of the number 19 is : 121645100408832000\n"
     ]
    }
   ],
   "source": [
    "def facto(n):\n",
    "    if n<=1:\n",
    "        return 1\n",
    "    else:\n",
    "        return n*facto(n-1)\n",
    "\n",
    "\n",
    "n = int(input('Enter the number of your desire : '))\n",
    "\n",
    "fac = facto(n)\n",
    "\n",
    "print(f'The factorial of the number {n} is : {fac}')"
   ]
  },
  {
   "cell_type": "code",
   "execution_count": 6,
   "id": "5d3573f6-45bf-422f-b280-020ac4ba24b4",
   "metadata": {},
   "outputs": [
    {
     "name": "stdin",
     "output_type": "stream",
     "text": [
      "Enter the nth value of the fibonacci number to be generated L:  39\n"
     ]
    },
    {
     "name": "stdout",
     "output_type": "stream",
     "text": [
      "The desired fibonacci number at 39th position is : 63245986\n"
     ]
    }
   ],
   "source": [
    "def func(n):\n",
    "    \n",
    "        if n==0:\n",
    "            return 0\n",
    "        elif n==1:\n",
    "            return 1\n",
    "        else:\n",
    "            return func(n-1)+func(n-2)\n",
    "   \n",
    "   \n",
    "\n",
    "\n",
    "try:\n",
    "    n = int(input('Enter the nth value of the fibonacci number to be generated L: '))\n",
    "    if n<0:\n",
    "        raise ValueError('Negative value provided')\n",
    "    primadoma = func(n)\n",
    "    print(f'The desired fibonacci number at {n}th position is : {primadoma}')\n",
    "except ValueError as e:\n",
    "    print(e)"
   ]
  },
  {
   "cell_type": "code",
   "execution_count": 12,
   "id": "1caa8924-c71b-4ecf-a217-c61cb245ec73",
   "metadata": {},
   "outputs": [
    {
     "name": "stdin",
     "output_type": "stream",
     "text": [
      "Enter the elements of the list to be added and separate them using \",\" :  23,45,6,7,90\n"
     ]
    },
    {
     "name": "stdout",
     "output_type": "stream",
     "text": [
      "[23, 45, 6, 7, 90]\n",
      "The total sum : 171\n"
     ]
    }
   ],
   "source": [
    "def func(l):\n",
    "    try:\n",
    "        if not l:\n",
    "            return 0\n",
    "        else:\n",
    "            return l[0] + func(l[1:])\n",
    "    except TypeError as e:\n",
    "        print('Wrong data type present in the list.')\n",
    "        return None\n",
    "\n",
    "\n",
    "\n",
    "try:\n",
    "    s = input('Enter the elements of the list to be added and separate them using \",\" : ').split(',')\n",
    "    l = [int(x) for x in s]\n",
    "    print(l)\n",
    "    recur_sum = func(l)\n",
    "    if recur_sum is not None:\n",
    "        print(f'The total sum : {recur_sum}')\n",
    "except TypeError as e:\n",
    "    print(e)\n"
   ]
  },
  {
   "cell_type": "raw",
   "id": "4823e343-37ee-4d45-813f-2d57f0a13849",
   "metadata": {},
   "source": [
    "To prevent a recursive function from running indefinitely and causing a stack overflow error, you can implement one or more of the following techniques:\n",
    "\n",
    "Base Cases: Ensure that your recursive function has one or more base cases that provide a termination condition. When the function reaches a base case, it should stop the recursion and return a result. Base cases define the smallest possible input for which the function can provide a direct answer.\n",
    "\n",
    "Progress Toward Base Cases: Make sure that each recursive call brings you closer to the base case(s). In other words, the input should get smaller or closer to the termination condition with each recursive call. This ensures that the function will eventually reach the base case and terminate.\n",
    "\n",
    "Limiting Input Range: If applicable, limit the range of input values to prevent excessive recursion. For example, if your recursive function computes Fibonacci numbers, you might choose to compute Fibonacci numbers only for non-negative integers, and any negative input is treated as an error.\n",
    "\n",
    "Tail Recursion: If you're dealing with a language that supports tail recursion optimization (e.g., some functional programming languages), you can use tail recursion to ensure that recursive calls do not consume additional stack space. In a tail-recursive function, the recursive call is the last operation before returning, allowing the compiler or interpreter to optimize it.\n",
    "\n",
    "Iteration: Consider using an iterative approach instead of recursion when the problem can be solved without recursion. Iterative solutions often use loops (e.g., for or while loops) and do not rely on the call stack, making them more memory-efficient.\n",
    "\n",
    "Memoization: If your recursive function involves repeated calculations of the same values, use memoization to store and reuse intermediate results. This can significantly reduce the number of recursive calls and improve performance.\n",
    "\n",
    "Dynamic Programming: For certain problems, dynamic programming techniques can help optimize recursive solutions by avoiding redundant calculations and storing results in a table.\n",
    "\n",
    "Testing and Debugging: Thoroughly test your recursive function with different inputs, including edge cases, to ensure that it behaves as expected. Debugging any unexpected behavior or infinite recursion is crucial.\n",
    "\n",
    "Profiling: Use profiling tools to analyze the performance of your recursive function and identify any bottlenecks or inefficiencies."
   ]
  },
  {
   "cell_type": "code",
   "execution_count": null,
   "id": "f1dbfc11-8bfc-41cf-bf98-c304387683d3",
   "metadata": {},
   "outputs": [],
   "source": []
  },
  {
   "cell_type": "code",
   "execution_count": 19,
   "id": "f841825c-9af3-4223-84cc-4bae4765ef7b",
   "metadata": {},
   "outputs": [
    {
     "name": "stdin",
     "output_type": "stream",
     "text": [
      "Enter the first number :  1024\n",
      "Enter the second number :  840\n"
     ]
    },
    {
     "name": "stdout",
     "output_type": "stream",
     "text": [
      "The GCD of 1024 and 840 is : 8\n"
     ]
    }
   ],
   "source": [
    "def gcd(a,b):\n",
    "    if b==0:\n",
    "        return a\n",
    "    else: \n",
    "        return gcd(b,a%b)\n",
    "\n",
    "\n",
    "\n",
    "\n",
    "try:\n",
    "    a = int(input('Enter the first number : '))\n",
    "    b = int(input('Enter the second number : '))\n",
    "    \n",
    "    if a<=0 or b<=0:\n",
    "        raise ValueError('Both numbers must be non-negative and greater than zero.')\n",
    "        \n",
    "    result =  gcd(a,b)\n",
    "    \n",
    "    if result is not None:\n",
    "        print(f'The GCD of {a} and {b} is : {result}')\n",
    "        \n",
    "except ValueError as e:\n",
    "    print(e)\n",
    "except TypeError as e:\n",
    "    print('Invalid Input : Please enter positive integers')\n",
    "\n"
   ]
  },
  {
   "cell_type": "code",
   "execution_count": 22,
   "id": "db42f768-6361-47df-9aed-5a68b2f396cf",
   "metadata": {},
   "outputs": [
    {
     "name": "stdin",
     "output_type": "stream",
     "text": [
      "Enter the string to be reversed :  bookenu\n"
     ]
    },
    {
     "name": "stdout",
     "output_type": "stream",
     "text": [
      "The reversed version of bookenu is : unekoob\n"
     ]
    }
   ],
   "source": [
    "def func(s):\n",
    "    try:\n",
    "        if len(s)==0:\n",
    "            return s\n",
    "        else:\n",
    "            return s[-1]+func(s[:-1])\n",
    "    except TypeError as e:\n",
    "        print('Invalid Input : Enter a string')\n",
    "\n",
    "\n",
    "\n",
    "try:\n",
    "    s = input('Enter the string to be reversed : ')\n",
    "    if type(s)!=str:\n",
    "        raise TypeError('Enter a String !')\n",
    "        \n",
    "    reverstr =  func(s)\n",
    "    \n",
    "    if reverstr is not None:\n",
    "        print(f'The reversed version of {s} is : {reverstr}')\n",
    "        \n",
    "except TypeError as e:\n",
    "    print(e)"
   ]
  },
  {
   "cell_type": "code",
   "execution_count": 25,
   "id": "b55254d5-0c65-47a7-a223-89fef825d85a",
   "metadata": {},
   "outputs": [
    {
     "name": "stdin",
     "output_type": "stream",
     "text": [
      "Enter the base :  23\n",
      "Enter the exponent :  9\n"
     ]
    },
    {
     "name": "stdout",
     "output_type": "stream",
     "text": [
      "The result is : 1801152661463\n"
     ]
    }
   ],
   "source": [
    "def func(a,b):\n",
    "    try:\n",
    "        if b == 0:\n",
    "            return 1\n",
    "        elif b<0:\n",
    "            raise ValueError('Enter a positive value for the exponent')\n",
    "        \n",
    "        else:\n",
    "            return a*func(a,b-1)\n",
    "    except TypeError as e:\n",
    "        print('Invalid Input : Enter integers.')\n",
    "    \n",
    "\n",
    "\n",
    "\n",
    "\n",
    "\n",
    "try:\n",
    "    a = int(input('Enter the base : '))\n",
    "    b = int(input('Enter the exponent : '))\n",
    "    \n",
    "    powerx = func(a,b)\n",
    "    \n",
    "    if powerx is not None :\n",
    "            print(f'The result is : {powerx}')\n",
    "            \n",
    "except ValueError as e:\n",
    "    print(e)\n",
    "except TypeError as e:\n",
    "    print(e)"
   ]
  },
  {
   "cell_type": "code",
   "execution_count": 2,
   "id": "1c6b50f8-94b6-4f69-963c-cc61bf676710",
   "metadata": {},
   "outputs": [
    {
     "name": "stdin",
     "output_type": "stream",
     "text": [
      "Enter the string of your choice :  kayo\n"
     ]
    },
    {
     "name": "stdout",
     "output_type": "stream",
     "text": [
      "The permutations for kayo is : \n",
      "kayo\n",
      "kaoy\n",
      "kyao\n",
      "kyoa\n",
      "koay\n",
      "koya\n",
      "akyo\n",
      "akoy\n",
      "ayko\n",
      "ayok\n",
      "aoky\n",
      "aoyk\n",
      "ykao\n",
      "ykoa\n",
      "yako\n",
      "yaok\n",
      "yoka\n",
      "yoak\n",
      "okay\n",
      "okya\n",
      "oaky\n",
      "oayk\n",
      "oyka\n",
      "oyak\n"
     ]
    }
   ],
   "source": [
    "def func(s):\n",
    "    try:\n",
    "        if len(s)==0:\n",
    "            return ['']\n",
    "        elif len(s)==1:\n",
    "            return s\n",
    "        else:\n",
    "            p = []\n",
    "            for i in range(len(s)):\n",
    "                firstchar = s[i]\n",
    "                otherchars = s[:i] + s[i+1:]\n",
    "                subpermutations = func(otherchars)\n",
    "                for subp in subpermutations:\n",
    "                    p.append(firstchar+subp)\n",
    "                \n",
    "            return p\n",
    "        \n",
    "    except TypeError as e:\n",
    "        print('Enter a String Literal.')\n",
    "    \n",
    "    \n",
    "\n",
    "\n",
    "\n",
    "\n",
    "\n",
    "try:\n",
    "    s = input('Enter the string of your choice : ')\n",
    "    if not isinstance(s, str):\n",
    "        raise TyperError('Enter a String ')\n",
    "        \n",
    "    result = func(s)\n",
    "    \n",
    "    if result is not None:\n",
    "        print(f'The permutations for {s} is : ')\n",
    "        for i in result:\n",
    "            print(i)\n",
    "            \n",
    "except TypeError as e:\n",
    "    print(e)"
   ]
  },
  {
   "cell_type": "code",
   "execution_count": 5,
   "id": "a4d4c010-1904-4514-aff6-ae5c3a72a823",
   "metadata": {},
   "outputs": [
    {
     "name": "stdin",
     "output_type": "stream",
     "text": [
      "Enter the string of your choice :  MALAYALAM\n"
     ]
    },
    {
     "name": "stdout",
     "output_type": "stream",
     "text": [
      "MALAYALAM is palindromic in nature.\n"
     ]
    }
   ],
   "source": [
    "def func(s):\n",
    "    try:\n",
    "        if len(s)<=1:\n",
    "              return True\n",
    "    \n",
    "        firstchar = s[0]\n",
    "        lastchar = s[-1]\n",
    "    \n",
    "        if firstchar!=lastchar:\n",
    "             return False\n",
    "    \n",
    "    \n",
    "        return func(s[1:-1])\n",
    "    \n",
    "    except TypeError as e:\n",
    "        print('Invalid Input : Enter a String Value.')\n",
    "\n",
    "\n",
    "\n",
    "\n",
    "\n",
    "\n",
    "\n",
    "try:\n",
    "    s = input('Enter the string of your choice : ')\n",
    "    if not isinstance(s, str):\n",
    "        raise TypeError('Enter a string value !')\n",
    "    result = func(s.lower())\n",
    "    \n",
    "    if result:\n",
    "        print(f'{s} is palindromic in nature.')\n",
    "    else:\n",
    "        print(f'{s} is not palindromic in nature.')\n",
    "        \n",
    "except TypeError as e:\n",
    "    print(e)"
   ]
  },
  {
   "cell_type": "code",
   "execution_count": 2,
   "id": "81af812c-f3b1-46cb-8631-3649350db943",
   "metadata": {},
   "outputs": [
    {
     "name": "stdin",
     "output_type": "stream",
     "text": [
      "Enter the elements of the list and separate them usign \",\" :   23,45,6,78,87\n"
     ]
    },
    {
     "name": "stdout",
     "output_type": "stream",
     "text": [
      "[23, 45, 6, 78, 87]\n"
     ]
    }
   ],
   "source": [
    "def combo(l,a):\n",
    "    if k<=0:\n",
    "        return [[]]\n",
    "    if not in l:\n",
    "        return []\n",
    "    \n",
    "    first\n",
    "\n",
    "\n",
    "\n",
    "\n",
    "\n",
    "\n",
    "\n",
    "try:\n",
    "    s = input('Enter the elements of the list and separate them usign \",\" : ').split(',')\n",
    "    l = [int(x) for x in s]\n",
    "    print(l)\n",
    "    a = int(input('Enter the length of the desired combinations.'))\n",
    "    \n",
    "    result = combo(l,a)\n",
    "    \n",
    "    if result is not None:\n",
    "        print(f'All possible combinations of length {a} for list {l} is : ')\n",
    "        for i in result:\n",
    "            print(i)\n",
    "            \n",
    "except ValueError as e:\n",
    "    print('Invalid Integer Value for \"a\" ')\n",
    "except TypeError as e:\n",
    "    print(e)\n",
    "            "
   ]
  },
  {
   "cell_type": "code",
   "execution_count": 5,
   "id": "870f73df-f70b-4411-a799-e584697d67b6",
   "metadata": {},
   "outputs": [
    {
     "name": "stdin",
     "output_type": "stream",
     "text": [
      "Enter the elements of the list and separate them using \",\" :  23,45,67,89,09\n"
     ]
    },
    {
     "name": "stdout",
     "output_type": "stream",
     "text": [
      "['23', '45', '67', '89', '09']\n",
      "['23', '45', '67', '89', '09']\n"
     ]
    },
    {
     "name": "stdin",
     "output_type": "stream",
     "text": [
      "Enter the length of the desired combinations:  10\n"
     ]
    },
    {
     "name": "stdout",
     "output_type": "stream",
     "text": [
      "All possible combinations of length 10 for list ['23', '45', '67', '89', '09'] is:\n"
     ]
    }
   ],
   "source": [
    "def combo(l, a):\n",
    "    try:\n",
    "        if a <= 0:\n",
    "            return [[]]\n",
    "        if not l:\n",
    "            return []\n",
    "\n",
    "        firstelement = l[0]\n",
    "        restelements = l[1:]\n",
    "\n",
    "        with_first_ele = [[firstelement] + combination for combination in combo(restelements, a - 1)]\n",
    "        without_first_ele = combo(restelements, a)\n",
    "\n",
    "        return with_first_ele + without_first_ele\n",
    "    except TypeError as e:\n",
    "        print('Invalid Input: The input is not a list.')\n",
    "\n",
    "\n",
    "try:\n",
    "    s = input('Enter the elements of the list and separate them using \",\" : ').split(',')\n",
    "    l = [x for x in s]  # Remove unnecessary parentheses here\n",
    "    print(l)\n",
    "    l1 = [x.strip() for x in l]\n",
    "    print(l1)\n",
    "    a = int(input('Enter the length of the desired combinations: '))\n",
    "\n",
    "    result = combo(l, a)\n",
    "\n",
    "    if result is not None:\n",
    "        print(f'All possible combinations of length {a} for list {l} is:')\n",
    "        for i in result:\n",
    "            print(i)\n",
    "\n",
    "except ValueError as e:\n",
    "    print('Invalid Integer Value for \"a\" ')\n",
    "except TypeError as e:\n",
    "    print(e)\n"
   ]
  },
  {
   "cell_type": "code",
   "execution_count": 6,
   "id": "41ae586b-7049-40ea-bc12-31dee4e5ad6d",
   "metadata": {},
   "outputs": [
    {
     "name": "stdin",
     "output_type": "stream",
     "text": [
      "Enter a list of elements (comma-separated):  23,4555,67,09,89,12,34\n",
      "Enter the length of combinations (k):  10\n"
     ]
    },
    {
     "name": "stdout",
     "output_type": "stream",
     "text": [
      "All combinations of length 10 from ['23', '4555', '67', '09', '89', '12', '34']:\n"
     ]
    }
   ],
   "source": [
    "# Define the combinations function that takes a list of elements and an integer k.\n",
    "def combinations(elements, k):\n",
    "    try:\n",
    "        # Base case 1: If k is 0, return a list containing an empty list.\n",
    "        if k == 0:\n",
    "            return [[]]\n",
    "        # Base case 2: If the list of elements is empty, return an empty list.\n",
    "        if not elements:\n",
    "            return []\n",
    "\n",
    "        # Split the list into the first element (first) and the rest of the elements (rest).\n",
    "        first = elements[0]\n",
    "        rest = elements[1:]\n",
    "\n",
    "        # Recursively generate combinations with 'first' included (with_first).\n",
    "        with_first = [[first] + combo for combo in combinations(rest, k - 1)]\n",
    "        \n",
    "        # Recursively generate combinations without 'first' (without_first).\n",
    "        without_first = combinations(rest, k)\n",
    "\n",
    "        # Combine combinations with and without 'first' to form all possible combinations.\n",
    "        return with_first + without_first\n",
    "    except TypeError as e:\n",
    "        # Exception handling: Handle invalid input types.\n",
    "        print(\"Error: Invalid input type. Please provide a list of elements and an integer k.\")\n",
    "        return None\n",
    "\n",
    "# Try-except block to handle potential exceptions.\n",
    "try:\n",
    "    # Input: Ask the user to enter a list of elements (comma-separated) and the value of k.\n",
    "    input_list = input(\"Enter a list of elements (comma-separated): \").split(\",\")\n",
    "    k = int(input(\"Enter the length of combinations (k): \"))\n",
    "\n",
    "    # Remove leading/trailing spaces from each element in the input list.\n",
    "    input_list = [element.strip() for element in input_list]\n",
    "\n",
    "    # Call the combinations function with the provided input.\n",
    "    result = combinations(input_list, k)\n",
    "\n",
    "    # If the result is not None, display all generated combinations.\n",
    "    if result is not None:\n",
    "        print(f\"All combinations of length {k} from {input_list}:\")\n",
    "        for combo in result:\n",
    "            print(combo)\n",
    "\n",
    "# Exception handling: Handle potential ValueErrors and TypeErrors.\n",
    "except ValueError as e:\n",
    "    print(\"Error: Invalid integer value for k.\")\n",
    "except TypeError as e:\n",
    "    print(e)\n"
   ]
  },
  {
   "cell_type": "code",
   "execution_count": 1,
   "id": "97c17a21-c991-4dd3-8762-86313cdc15dc",
   "metadata": {},
   "outputs": [
    {
     "name": "stdin",
     "output_type": "stream",
     "text": [
      "Enter the elements of the string and separate them using \",\" :  1,2,3,4\n"
     ]
    },
    {
     "name": "stdout",
     "output_type": "stream",
     "text": [
      "The given list is : ['1', '2', '3', '4']\n",
      "All possible combinations are : \n",
      "['1', '2', '3', '4']\n",
      "['1', '2', '3']\n",
      "['1', '2', '4']\n",
      "['1', '2']\n",
      "['1', '3', '4']\n",
      "['1', '3']\n",
      "['1', '4']\n",
      "['1']\n",
      "['2', '3', '4']\n",
      "['2', '3']\n",
      "['2', '4']\n",
      "['2']\n",
      "['3', '4']\n",
      "['3']\n",
      "['4']\n",
      "[]\n"
     ]
    }
   ],
   "source": [
    "def combinations(l):\n",
    "    if not l:\n",
    "        return [[]]\n",
    "\n",
    "    first_ele = l[0]\n",
    "    without_first_ele = l[1:]\n",
    "    without_first_ele_combinations = combinations(without_first_ele)\n",
    "    with_first_ele = []\n",
    "\n",
    "    for combo in without_first_ele_combinations:\n",
    "        with_first_ele.append([first_ele] + combo)\n",
    "\n",
    "    total_combinations = with_first_ele + without_first_ele_combinations\n",
    "\n",
    "    return total_combinations\n",
    "\n",
    "try:\n",
    "    s = input('Enter the elements of the string and separate them using \",\" : ').split(',')\n",
    "    l = [x.strip() for x in s]\n",
    "    print(f'The given list is : {l}')\n",
    "\n",
    "    if not isinstance(l, list):\n",
    "        raise TypeError('Invalid Input, Enter a list.')\n",
    "\n",
    "    combos = combinations(l)\n",
    "\n",
    "    print('All possible combinations are : ')\n",
    "    for combo in combos:\n",
    "        print(combo)\n",
    "\n",
    "except ValueError as e:\n",
    "    print('Invalid input of elements in the list.')\n",
    "except TypeError as e:\n",
    "    print('Invalid Error: List not provided.')\n"
   ]
  },
  {
   "cell_type": "raw",
   "id": "b53fb178-48c0-4b3e-bf64-44aeea2b11f8",
   "metadata": {},
   "source": [
    " A function is defined using the def keyword, followed by the function name and a set of parentheses containing zero or more parameters (also known as arguments). The function definition typically ends with a colon, and the code block that makes up the function is indented.\n",
    "    \n",
    "    Functions promote code reusability. Instead of writing the same code multiple times, you can define a function and call it whenever you need that functionality.\n",
    "    \n",
    "    Functions make code more readable by breaking it into smaller, manageable pieces. Each function can have a specific purpose, making it easier to understand and maintain your code.\n",
    "    \n",
    "    Functions introduce their own scope, which means that variables defined inside a function are usually local to that function and do not affect variables outside of it. However, you can also access global variables from within a function by using the global keyword."
   ]
  },
  {
   "cell_type": "raw",
   "id": "3531cea1-4178-44d7-8aeb-2dcd39b70d95",
   "metadata": {},
   "source": [
    "Defining method of functions:-\n",
    "\n",
    "Function Name: The function name should be descriptive and follow Python naming conventions. It should be a valid identifier and should not conflict with Python's built-in function names or keywords.\n",
    "\n",
    "Parameters: Parameters are variables that are used to receive input values when the function is called. They are optional, and a function can have zero or more parameters. The parameters act as placeholders for values that will be passed to the function when it's called.\n",
    "\n",
    "Function Body: The function body consists of one or more statements that define the behavior of the function. These statements are indented under the function definition.\n",
    "\n",
    "Functions often include a return statement to specify the value or values that the function should produce as output. If a return statement is not present, the function returns None by default.\n",
    "\n",
    "\n",
    "Example:-\n",
    "result = add(3, 4)"
   ]
  },
  {
   "cell_type": "code",
   "execution_count": null,
   "id": "460772aa-2446-4e84-8638-5783bdafce83",
   "metadata": {},
   "outputs": [],
   "source": [
    "Function Definition:\n",
    "\n",
    "A function definition is the process of creating a reusable block of code with a specific name and functionality.\n",
    "It defines how the function works, what arguments it accepts, and what it returns (if anything).\n",
    "During the function definition, you use the def keyword followed by the function name and a set of parentheses that may contain parameters (arguments) the function expects.\n",
    "The function definition typically ends with a colon : and is followed by an indented block of code that constitutes the body of the function.\n",
    "The purpose of a function definition is to specify what the function does when called and how it behaves.\n",
    "\n",
    "\n",
    "\n",
    "Function Call (Invocation):\n",
    "\n",
    "A function call (or function invocation) is the process of executing a defined function by providing it with actual values, which are called arguments or parameters.\n",
    "It involves using the function's name followed by parentheses (), and within the parentheses, you pass the actual values (arguments) that match the function's expected parameters.\n",
    "When you call a function, the program executes the code defined inside the function and returns a result (if specified).\n",
    "Function calls are where you actually make use of the functionality defined in the function.\n"
   ]
  },
  {
   "cell_type": "code",
   "execution_count": 5,
   "id": "97e65e01-8e85-48cd-bb5e-6c977ae58d17",
   "metadata": {},
   "outputs": [
    {
     "name": "stdin",
     "output_type": "stream",
     "text": [
      "Enter the first number of your choice required for addition :  23\n",
      "Enter the seconfd number of your choice required for addition :  34\n"
     ]
    },
    {
     "name": "stdout",
     "output_type": "stream",
     "text": [
      "The result of addition of 23 and 34 : 57\n"
     ]
    }
   ],
   "source": [
    "def sumofnum(a,b):\n",
    "    return a+b\n",
    "\n",
    "\n",
    "\n",
    "\n",
    "\n",
    "\n",
    "i1 = int(input('Enter the first number of your choice required for addition : '))\n",
    "i2 = int(input('Enter the seconfd number of your choice required for addition : '))\n",
    "\n",
    "result =  sumofnum(i1,i2)\n",
    "\n",
    "print(f'The result of addition of {i1} and {i2} : {result}')"
   ]
  },
  {
   "cell_type": "raw",
   "id": "1d94af55-d523-415d-b439-9a4db59321a4",
   "metadata": {},
   "source": [
    "A function signature, also known as a function prototype or function header, is a declaration that provides essential information about a function without including its implementation details. It typically includes the following information:\n",
    "\n",
    "Function Name:\n",
    "\n",
    "Keyword 'def' is used to initialize the function\n",
    "\n",
    "The name of the function, which uniquely identifies it within the program.\n",
    "Return Type:\n",
    "\n",
    "The data type of the value that the function returns to the caller. It can be int, float, str, list, bool, None, or any other valid Python data type.\n",
    "Parameters (Arguments):\n",
    "\n",
    "The list of parameters (also known as arguments) that the function expects.\n",
    "\n",
    "Each parameter includes:\n",
    "Parameter Name: The name used within the function to reference the argument.\n",
    "Parameter Data Type: The data type or class of the argument.\n",
    "The parameters are enclosed in parentheses and separated by commas."
   ]
  },
  {
   "cell_type": "code",
   "execution_count": 6,
   "id": "8249e4c2-e65d-4f35-b9c3-30467e26c915",
   "metadata": {},
   "outputs": [
    {
     "name": "stdin",
     "output_type": "stream",
     "text": [
      "Enter the first number required for multiplication :  234\n",
      "Enter the second number required for multiplication :  599918\n"
     ]
    },
    {
     "name": "stdout",
     "output_type": "stream",
     "text": [
      "The result of the product of 234 and 599918 is : 140380812\n"
     ]
    }
   ],
   "source": [
    "def returnproduct(a,b):\n",
    "    return a*b\n",
    "\n",
    "a = int(input('Enter the first number required for multiplication : '))\n",
    "b = int(input('Enter the second number required for multiplication : '))\n",
    "\n",
    "result = returnproduct(a,b)\n",
    "\n",
    "print(f'The result of the product of {a} and {b} is : {result}')"
   ]
  },
  {
   "cell_type": "raw",
   "id": "204fa783-3b42-4eb1-b264-de7c1c0c356e",
   "metadata": {},
   "source": [
    "Formal Parameters:\n",
    "\n",
    "Formal parameters are placeholders for the values that a function expects to receive when it is called.\n",
    "They are declared as part of a function's definition within the parentheses.\n",
    "Formal parameters act as local variables within the function, and their values are determined by the actual arguments passed during the function call.\n",
    "You can think of formal parameters as variables that represent the input data for a function.\n",
    "\n",
    "Here's an example of formal parameters in python through function declaration :-\n",
    "\n",
    "def add(formal_param_1, formal_param_2): \n",
    "    result = formal_param_1 + formal_param_2\n",
    "    return result\n",
    "\n",
    "\n",
    "Actual Arguments (Arguments):\n",
    "\n",
    "Actual arguments (often referred to simply as \"arguments\") are the values or expressions provided to a function when it is called.\n",
    "They are the real data that gets passed to the function to be used by the formal parameters.\n",
    "Actual arguments can be constants, variables, expressions, or even the results of other function calls.\n",
    "The number and order of actual arguments must match the number and order of formal parameters defined in the function.\n",
    "\n",
    "Here's an example of passing the actual arguments in the function for operation (may or may not be user declared values):-\n",
    "\n",
    "sum_result = add(actual_arg_1, actual_arg_2)  \n",
    "\n"
   ]
  },
  {
   "cell_type": "code",
   "execution_count": 7,
   "id": "1014a041-850a-45f6-8222-1debf325f741",
   "metadata": {},
   "outputs": [
    {
     "name": "stdout",
     "output_type": "stream",
     "text": [
      "21.789\n"
     ]
    }
   ],
   "source": [
    "def addition(arg1=5.0,arg2=16.789):\n",
    "    print(arg1+arg2)\n",
    "    \n",
    "addition()"
   ]
  },
  {
   "cell_type": "code",
   "execution_count": 10,
   "id": "8e9a3105-3a0b-4b62-9d9e-49cc781aa8e8",
   "metadata": {},
   "outputs": [
    {
     "name": "stdout",
     "output_type": "stream",
     "text": [
      "10\n",
      "86.18785714285714\n"
     ]
    }
   ],
   "source": [
    "def tripleaddition(arg1,arg2,arg3):\n",
    "    print(arg1+arg2+arg3)\n",
    "\n",
    "    \n",
    "tripleaddition(arg1=10,arg2=90,arg3=-90)\n",
    "\n",
    "tripleaddition(arg1=3.14, arg2 = 79.905, arg3 = 22/7)"
   ]
  },
  {
   "cell_type": "code",
   "execution_count": 11,
   "id": "554660e6-ccd0-4d90-be9e-62424b1ed9e5",
   "metadata": {},
   "outputs": [
    {
     "name": "stdout",
     "output_type": "stream",
     "text": [
      " Result 1 is : 55\n",
      " Result 2 is : 9060\n"
     ]
    }
   ],
   "source": [
    "def calculate(*args):\n",
    "    total = 0\n",
    "    for n in args:\n",
    "        total = total + n\n",
    "        \n",
    "    return total\n",
    "\n",
    "\n",
    "result1 = calculate(1,2,3,4,5,6,7,8,9,10)\n",
    "result2 = calculate(1*1,2*2,3*4,5*80,6*999,7*345,234)\n",
    "\n",
    "\n",
    "print(f' Result 1 is : {result1}')\n",
    "print(f' Result 2 is : {result2}')"
   ]
  },
  {
   "cell_type": "raw",
   "id": "cf0a58bb-0dad-4fe5-8d5f-c0722c92e49c",
   "metadata": {},
   "source": [
    "*args (Arbitrary Positional Arguments):\n",
    "\n",
    "Purpose: *args allows a function to accept an arbitrary number of positional arguments (also known as non-keyword arguments). These arguments are collected into a tuple within the function.\n",
    "\n",
    "Usage: You can use *args as a parameter in a function definition to indicate that it can accept multiple positional arguments.\n",
    "\n",
    "Here's an example:-\n",
    "\n",
    "def add_numbers(*x):\n",
    "    result = 0\n",
    "    for i in x:\n",
    "        result *= num\n",
    "    return result\n",
    "\n",
    "total = add_numbers(1, 2, 3, 4, 5)  \n",
    "\n",
    "**kwargs (Arbitrary Keyword Arguments):\n",
    "\n",
    "Purpose: **kwargs allows a function to accept an arbitrary number of keyword arguments (also known as keyword-value pairs). These arguments are collected into a dictionary within the function.\n",
    "\n",
    "Usage: You can use **kwargs as a parameter in a function definition to indicate that it can accept multiple keyword arguments.\n",
    "\n",
    "\n",
    "Here's an exmample:-\n",
    "def display_info(**ks):\n",
    "    for a, b in ks.items():\n",
    "        print(f\"{a}: {b}\")\n",
    "\n",
    "display_info(name=\"Alice\", age=30, city=\"New York\")  # Can pass any keyword arguments\n",
    "\n"
   ]
  },
  {
   "cell_type": "raw",
   "id": "eea69a4a-24c1-432d-bf2f-7557ea407123",
   "metadata": {},
   "source": [
    "The return statement in Python functions is used to specify the value or values that the function should produce as output. It allows a function to compute a result and then provide that result to the caller of the function. The return statement also terminates the execution of the function, and any code after the return statement is not executed.\n",
    "\n",
    "Here are some key points about the role of the return statement in Python functions:\n",
    "\n",
    "Returning Values: You can use the return statement to send a value (or multiple values) back to the caller of the function. The returned value can be of any data type, including integers, floats, strings, lists, dictionaries, and more.\n",
    "\n",
    "Optional: The return statement is optional in Python functions. If a function does not contain a return statement, it implicitly returns None. However, including a return statement allows you to specify a meaningful result.\n",
    "\n",
    "Termination: When the return statement is encountered during the execution of a function, it immediately terminates the function, and control is passed back to the caller. Any code after the return statement is not executed.\n",
    "\n",
    "Multiple Returns: You can have multiple return statements in a function. Once a return statement is executed, the function exits, and the specified value is returned.\n",
    "\n",
    "\n",
    "\n"
   ]
  },
  {
   "cell_type": "raw",
   "id": "4aea8b69-40d4-45c0-a9f0-f9e33f7e86d9",
   "metadata": {},
   "source": [
    "\n",
    "Variable scope in Python refers to the region of the code where a variable can be accessed or modified. Python has two main types of variable scope: local scope and global scope. Understanding these scopes is essential for writing clear and bug-free code.\n",
    "\n",
    "Local Scope:\n",
    "\n",
    "Local scope refers to the visibility and accessibility of variables within a specific block of code, such as a function or a code block enclosed by curly braces ({ }).\n",
    "Variables defined within a local scope are called local variables, and they are only accessible within that scope.\n",
    "Local variables are typically created when you define a variable inside a function or a block of code, and they cease to exist when the function or block of code completes execution.\n",
    "Attempting to access a local variable outside of its defining scope will result in a NameError.\n",
    "\n",
    "\n",
    "Global Scope:\n",
    "\n",
    "Global scope refers to the visibility and accessibility of variables at the top level of a Python script or module.\n",
    "Variables defined in the global scope are called global variables, and they can be accessed from anywhere in the script.\n",
    "Global variables are created when you define a variable at the top level of a script or module, and they exist throughout the lifetime of the program.\n",
    "Modifying global variables within a local scope requires using the global keyword to indicate that you are working with the global variable."
   ]
  },
  {
   "cell_type": "code",
   "execution_count": 14,
   "id": "2fc5b907-0d1e-4850-8f51-2e6d57c535c4",
   "metadata": {},
   "outputs": [
    {
     "name": "stdout",
     "output_type": "stream",
     "text": [
      "190\n"
     ]
    }
   ],
   "source": [
    "gb = 200\n",
    "\n",
    "def param():\n",
    "    global gb \n",
    "    print(gb-10)\n",
    "    \n",
    "param()"
   ]
  },
  {
   "cell_type": "code",
   "execution_count": 15,
   "id": "637cd243-9f17-45a1-bc44-364b57b7ab56",
   "metadata": {},
   "outputs": [
    {
     "name": "stdin",
     "output_type": "stream",
     "text": [
      "Enter the number as desired by the user to calculate its factorial :  34\n"
     ]
    },
    {
     "name": "stdout",
     "output_type": "stream",
     "text": [
      "The factorial of 34 is 295232799039604140847618609643520000000\n"
     ]
    }
   ],
   "source": [
    "def facto(n):\n",
    "    if n==0 or n==1:\n",
    "        return 1\n",
    "    else:\n",
    "        return n*facto(n-1)\n",
    "\n",
    "\n",
    "n = int(input('Enter the number as desired by the user to calculate its factorial : '))\n",
    "fact = facto(n)\n",
    "print(f'The factorial of {n} is {fact}')"
   ]
  },
  {
   "cell_type": "raw",
   "id": "00e4d2b3-0341-4724-928b-13f7db02ceea",
   "metadata": {},
   "source": [
    "\n",
    "\n",
    "Global Variables:\n",
    "   - Variables defined at the top level of a script or module are considered global variables.\n",
    "   - Global variables are accessible from any part of the script, including functions.\n",
    "   - To access a global variable within a function, simply refer to it by its name.\n",
    "\n",
    "   ```python\n",
    "   global_var = 42  # This is a global variable\n",
    "\n",
    "   def access_global():\n",
    "       print(f\"Accessing global_var from inside the function: {global_var}\")\n",
    "\n",
    "   access_global()  # Output: Accessing global_var from inside the function: 42\n",
    "   ```\n",
    "\n",
    " \n",
    "   - You can pass variables defined outside a function as arguments when calling the function.\n",
    "   - This allows you to use those values within the function as if they were local variables.\n",
    "\n",
    "   ```python\n",
    "   def use_arguments(arg1, arg2):\n",
    "       print(f\"arg1: {arg1}, arg2: {arg2}\")\n",
    "\n",
    "   outside_var1 = 10\n",
    "   outside_var2 = \"Hello\"\n",
    "\n",
    "   use_arguments(outside_var1, outside_var2)  # Output: arg1: 10, arg2: Hello\n",
    "   ```\n",
    "\n",
    "Closures (for Nested Functions):\n",
    "   - In Python, you can create nested functions where inner functions can access variables from outer functions. This concept is called a closure.\n",
    "   - The inner function \"closes over\" the variables of the outer function and retains access to them even after the outer function has finished executing.\n",
    "\n",
    "   ```python\n",
    "   def outer_function(outer_var):\n",
    "       def inner_function():\n",
    "           print(f\"Accessing outer_var from inner function: {outer_var}\")\n",
    "       return inner_function\n",
    "\n",
    "   closure = outer_function(\"Closure Variable\")\n",
    "   closure()  # Output: Accessing outer_var from inner function: Closure Variable\n",
    "   ```\n",
    "\n",
    "  "
   ]
  },
  {
   "cell_type": "raw",
   "id": "5dbf94a1-115f-4d0f-bc36-55c33a9f45cf",
   "metadata": {},
   "source": [
    "A lambda function, also known as an anonymous function or a lambda expression, is a small, unnamed function defined using the lambda keyword. Lambda functions are typically used for short, simple operations where a full function definition would be overkill. They have the following characteristics"
   ]
  },
  {
   "cell_type": "code",
   "execution_count": 19,
   "id": "bb6546cf-1bb3-4368-9a7c-444c64cd5b9c",
   "metadata": {},
   "outputs": [
    {
     "name": "stdout",
     "output_type": "stream",
     "text": [
      "[(0, 0, 1), (7, 8, 9, 0), (2, 38, 5, 6)]\n"
     ]
    }
   ],
   "source": [
    "tuplis = [(2,38,5,6),(7,8,9,0),(0,0,1)]\n",
    "\n",
    "sortuplis  = sorted(tuplis, key=lambda x: x[1])\n",
    "\n",
    "print(sortuplis)"
   ]
  },
  {
   "cell_type": "raw",
   "id": "75c94666-93b6-41c2-ab98-0a82c9beb49a",
   "metadata": {},
   "source": [
    "A higher-order function is a function that can take one or more functions as arguments (i.e., functions that accept other functions as input) and/or return a function as its result. Higher-order functions treat functions as first-class citizens, allowing you to manipulate and work with them in the same way as other data types like integers, strings, and lists.\n",
    "\n",
    "Here are key concepts related to higher-order functions:\n",
    "\n",
    "Function as Argument: Higher-order functions can accept other functions as arguments. These functions are often referred to as \"callback functions\" because they are called back within the higher-order function to perform specific operations.\n",
    "\n",
    "Function as Result: Higher-order functions can also return functions as their results. These returned functions can be used later in the program.\n",
    "\n",
    "Abstraction: Higher-order functions provide a level of abstraction, enabling you to separate concerns and write more modular and reusable code.\n",
    "\n"
   ]
  },
  {
   "cell_type": "code",
   "execution_count": 23,
   "id": "e28e74f7-e6a0-44c5-a6a9-894d7074aed5",
   "metadata": {},
   "outputs": [
    {
     "name": "stdout",
     "output_type": "stream",
     "text": [
      "[1, 4, 9, 16, 25, 36, 49, 64, 81, 100]\n",
      "[1, 8, 27, 64, 125, 216, 343, 512, 729, 1000]\n"
     ]
    }
   ],
   "source": [
    "def apply_func(func, l):\n",
    "    result = []\n",
    "    for i in l:\n",
    "        result.append(func(i))\n",
    "        \n",
    "    return result\n",
    "\n",
    "def square(a):\n",
    "    return a*a\n",
    "\n",
    "def cubic(b):\n",
    "    return b*b*b\n",
    "\n",
    "l = [1,2,3,4,5,6,7,8,9,10]\n",
    "\n",
    "squared_list = apply_func(square, l)\n",
    "cubic_list  = apply_func(cubic, l)\n",
    "\n",
    "print(squared_list)\n",
    "print(cubic_list)"
   ]
  },
  {
   "cell_type": "raw",
   "id": "478a3ed6-d2a7-4a41-a79d-fead0efa744d",
   "metadata": {},
   "source": [
    "len()  Function:\n",
    "\n",
    "Role: The len() function is used to determine the length or the number of elements in an iterable, such as a string, list, tuple, or dictionary.\n",
    "Usage: You pass the iterable as an argument to len(), and it returns an integer representing the number of elements in the iterable.\n",
    "Example:-\n",
    "l = [....]\n",
    "lx = len(l)\n",
    "print(f'The length of the list is : {lx}')\n",
    "\n",
    "max() Function:\n",
    "\n",
    "Role: The max() function is used to find the maximum element within an iterable.\n",
    "Usage: You pass the iterable as an argument to max(), and it returns the largest element.\n",
    "\n",
    "\n",
    "min() Function:\n",
    "\n",
    "Role: The min() function is used to find the minimum element within an iterable.\n",
    "Usage: You pass the iterable as an argument to min(), and it returns the smallest element."
   ]
  },
  {
   "cell_type": "code",
   "execution_count": 26,
   "id": "b92cffdc-af47-4abe-a012-cc01ab856994",
   "metadata": {},
   "outputs": [
    {
     "name": "stdout",
     "output_type": "stream",
     "text": [
      "[0, 1, 2, 3, 4, 5, 6, 7]\n"
     ]
    }
   ],
   "source": [
    "l = [1,2,3,4,5,6,7,8]\n",
    "def reducerfunc(a):\n",
    "    return a-1\n",
    "newlist=list(map(reducerfunc, l))\n",
    "print(newlist)"
   ]
  },
  {
   "cell_type": "raw",
   "id": "f212d48d-532f-4b07-832c-2cfef6235026",
   "metadata": {},
   "source": [
    "The filter() function in Python is used to filter elements from an iterable (e.g., a list, tuple, or other iterable) based on a specified condition. It returns a new iterable that contains only the elements that satisfy the given condition.\n",
    "\n",
    "\n",
    "The filter() function in Python is used to filter elements from an iterable (e.g., a list, tuple, or other iterable) based on a specified condition. It returns a new iterable that contains only the elements that satisfy the given condition. Here's how it works and when you would use it:\n",
    "\n",
    "function: A function that takes an element from the iterable as its argument and returns a Boolean value (True or False) to determine whether the element should be included in the filtered result.\n",
    "iterable: The iterable (e.g., a list, tuple, or other iterable) from which elements are to be filtered.\n",
    "How filter() Works:\n",
    "The filter() function takes each element from the iterable and applies the specified function to it.\n",
    "\n",
    "If the function returns True for a given element, that element is included in the filtered result.\n",
    "\n",
    "If the function returns False for an element, that element is excluded from the result.\n",
    "\n",
    "The filtered elements are returned as a new iterable, typically converted to a list or another desired data structure.\n",
    "\n",
    "\n"
   ]
  },
  {
   "cell_type": "code",
   "execution_count": 27,
   "id": "f1bc557c-4476-47de-9b93-877a729acbb3",
   "metadata": {},
   "outputs": [
    {
     "name": "stdout",
     "output_type": "stream",
     "text": [
      "45360\n"
     ]
    }
   ],
   "source": [
    "from functools import reduce\n",
    "\n",
    "def multiply(a,b):\n",
    "    return a*b\n",
    "\n",
    "l = [1,3,5,6,7,8,9]\n",
    "\n",
    "product = reduce(multiply, l)\n",
    "\n",
    "print(product)"
   ]
  },
  {
   "cell_type": "raw",
   "id": "80020b90-ba63-44b1-9b2c-914b4901ee8c",
   "metadata": {},
   "source": [
    "Docstrings in Python are used to provide documentation or information about a function, module, class, or method. They serve as a way to describe what a piece of code does, its purpose, its parameters, its return values, and any other relevant information. Docstrings are essential for code readability, maintainability, and for helping other developers understand and use your code effectively.\n",
    "\n",
    "Here are some key points about the purpose of docstrings in Python functions:\n",
    "\n",
    "Documentation: Docstrings serve as documentation for your code. They provide information about what a function does and how to use it.\n",
    "\n",
    "Readability: Docstrings improve the readability of your code by making it more self-explanatory. Developers can understand the purpose and usage of a function without reading its implementation.\n",
    "\n",
    "IDE Support: Many integrated development environments (IDEs) and documentation tools can extract docstrings to generate documentation automatically. This makes it easier to create comprehensive documentation for your code.\n",
    "\n",
    "Help Messages: Docstrings can be used by tools like Python's help() function to display information about functions and classes interactively in a Python shell.\n",
    "\n",
    "Testing and Debugging: Docstrings can provide valuable information to testers and debuggers, helping them understand how to use the code correctly and what to expect as output.\n",
    "\n",
    "\n",
    "def add(x, y):\n",
    "    \n",
    "    Returns the sum of two numbers.\n",
    "\n",
    "    Args:\n",
    "        x (int): The first number.\n",
    "        y (int): The second number.\n",
    "\n",
    "    Returns:\n",
    "        int: The sum of x and y.\n",
    "    \n",
    "    return x + y\n"
   ]
  },
  {
   "cell_type": "raw",
   "id": "7a550e7d-cb62-46e9-9de0-0e5cab3d390e",
   "metadata": {},
   "source": [
    "Naming Conventions:\n",
    "Use Descriptive Names: Choose names that clearly convey the purpose or meaning of the function or variable. Avoid overly short or cryptic names.\n",
    "\n",
    "Use Lowercase for Variables and Function Names: Variable and function names should be in lowercase, using underscores to separate words (e.g., my_variable, calculate_total).\n",
    "\n",
    "Use CamelCase for Class Names: Class names should use CamelCase (also known as PascalCase), which capitalizes the first letter of each word without spaces or underscores (e.g., MyClass, EmployeeData).\n",
    "\n",
    "Constants in Uppercase: Constants, which are values that do not change, should be in uppercase with underscores separating words (e.g., MAX_VALUE, PI_CONSTANT).\n",
    "\n",
    "Avoid Single-Character Names: Unless used for loop counters, avoid single-character variable names (e.g., use i for an index in a loop, but not for other purposes).\n",
    "\n",
    "Use Verb-Noun Pairs for Functions: Function names should typically follow a verb-noun pattern to indicate actions (e.g., calculate_total, print_report).\n",
    "\n",
    "Avoid Reserved Words: Avoid using Python's reserved words (e.g., for, while, if, else) as variable or function names.\n",
    "\n",
    "Be Consistent: Maintain consistency in naming throughout your codebase. If you use a particular naming convention, stick with it.\n",
    "\n",
    "Guidelines:\n",
    "Choose Meaningful Names: Make sure that names accurately describe the purpose or content of the variable or function.\n",
    "\n",
    "Keep Names Short and Concise: While descriptive names are important, avoid overly long names. Aim for a balance between clarity and brevity.\n",
    "\n",
    "Use Comments for Clarity: If a name alone doesn't fully explain the purpose, consider adding a comment to provide additional context.\n",
    "\n",
    "Use Plural for Collections: Use plural names for variables that represent collections (e.g., users for a list of user objects).\n",
    "\n",
    "Avoid Abbreviations: Minimize the use of abbreviations unless they are widely accepted and well-known (e.g., URL for Uniform Resource Locator).\n",
    "\n",
    "Use Consistent Capitalization: Be consistent with your capitalization style. If you start with lowercase for function names, stick with it.\n",
    "\n",
    "Follow Project or Team Guidelines: If you are working on a project or within a team, follow any established naming conventions or guidelines.\n",
    "\n",
    "Refactor When Necessary: If you find that a name is no longer suitable or descriptive, don't hesitate to refactor and rename variables or functions."
   ]
  },
  {
   "cell_type": "code",
   "execution_count": null,
   "id": "f11ed018-d323-4818-ba4a-f666f3af21e1",
   "metadata": {},
   "outputs": [],
   "source": []
  }
 ],
 "metadata": {
  "kernelspec": {
   "display_name": "Python 3 (ipykernel)",
   "language": "python",
   "name": "python3"
  },
  "language_info": {
   "codemirror_mode": {
    "name": "ipython",
    "version": 3
   },
   "file_extension": ".py",
   "mimetype": "text/x-python",
   "name": "python",
   "nbconvert_exporter": "python",
   "pygments_lexer": "ipython3",
   "version": "3.10.8"
  }
 },
 "nbformat": 4,
 "nbformat_minor": 5
}
